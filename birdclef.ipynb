{
 "cells": [
  {
   "cell_type": "markdown",
   "id": "a9da5ffe",
   "metadata": {},
   "source": [
    "### Import Libraries"
   ]
  },
  {
   "cell_type": "code",
   "execution_count": 1,
   "id": "61846c50",
   "metadata": {},
   "outputs": [],
   "source": [
    "# Import libraries\n",
    "import os \n",
    "import sys\n",
    "import numpy as np\n",
    "import pandas as pd\n",
    "import copy\n",
    "import torch\n",
    "import torch.nn as nn\n",
    "import torch.optim as optim\n",
    "import torch.nn.functional as F\n",
    "from torch.utils.data import Dataset, DataLoader, random_split\n",
    "from torchvision import datasets, models, transforms\n",
    "import json\n",
    "from sklearn.metrics import f1_score\n",
    "import matplotlib.pyplot as plt\n",
    "import librosa\n",
    "import librosa.display\n",
    "from IPython.display import Image\n",
    "import IPython.display as ipd\n",
    "from tqdm import tqdm, tqdm_pandas\n",
    "import random\n",
    "import gc\n",
    "import time\n",
    "import pickle\n",
    "from vit_pytorch.efficient import ViT\n",
    "from linformer import Linformer"
   ]
  },
  {
   "cell_type": "markdown",
   "id": "a639c526",
   "metadata": {},
   "source": [
    "### Read in data"
   ]
  },
  {
   "cell_type": "code",
   "execution_count": 26,
   "id": "8c4ce974",
   "metadata": {},
   "outputs": [],
   "source": [
    "Train_pt_DIR = './train_pt'\n",
    "Train_Metadata_DIR = './train_metadata.csv'\n",
    "Scored_Bird_DIR ='./scored_birds.json'\n",
    "Train_DIR = './train_audio/'\n",
    "Audio_Rating_Dir = \"./bird_audio_rating_mapping.pkl\"\n",
    "\n",
    "#read in metadata as df\n",
    "train_df = pd.read_csv(Train_Metadata_DIR)\n",
    "train_df.head()\n",
    "train_df['dir'] = Train_DIR+train_df['filename']\n",
    "#print(train_df['dir'])\n",
    "tqdm.pandas()\n",
    "#train_df['spectogram'] = train_df.progress_apply(lambda x: process_audio_to_spectogram(x['dir']),axis=1)"
   ]
  },
  {
   "cell_type": "code",
   "execution_count": 3,
   "id": "08321fc2",
   "metadata": {},
   "outputs": [
    {
     "data": {
      "text/plain": [
       "\"\\nnum_audio_files = train_df.shape[0]\\n\\nspectograms_list = []\\nfor i in tqdm(range(100)):\\n    current_bird = train_df.primary_label.loc[i]\\n    process_get_audio_chunks_images(train_df['dir'].iloc[i])\\n\""
      ]
     },
     "execution_count": 3,
     "metadata": {},
     "output_type": "execute_result"
    }
   ],
   "source": [
    "'''\n",
    "num_audio_files = train_df.shape[0]\n",
    "\n",
    "spectograms_list = []\n",
    "for i in tqdm(range(100)):\n",
    "    current_bird = train_df.primary_label.loc[i]\n",
    "    process_get_audio_chunks_images(train_df['dir'].iloc[i])\n",
    "'''"
   ]
  },
  {
   "cell_type": "code",
   "execution_count": 4,
   "id": "863d51f8",
   "metadata": {},
   "outputs": [],
   "source": [
    "def get_spectograms_from_file(idx):\n",
    "    #get all the corresponding spectogram in np format\n",
    "    bird = idx2bird[idx]\n",
    "    pt_filepath = Train_pt_DIR+\"/\"+bird+\".pt\"\n",
    "    x_train = torch.load(pt_filepath).view(-1,1,128,216)\n",
    "    num_training_samples = x_train.shape[0]\n",
    "    #y_train is one hot encoded vector per training sample\n",
    "    y_train = torch.tensor(np.array([0]*len(all_birds))).view(1,-1)\n",
    "    y_train[0,idx] = 1\n",
    "    y_train = torch.cat([y_train]*num_training_samples)\n",
    "\n",
    "    return x_train, y_train"
   ]
  },
  {
   "cell_type": "code",
   "execution_count": 5,
   "id": "3462a533",
   "metadata": {},
   "outputs": [],
   "source": [
    "def get_single_spectogram_from_file(bird_idx, row):\n",
    "    #get only 1 spectogram based on the bird, and one particular row\n",
    "    bird = idx2bird[bird_idx]\n",
    "    pt_filepath = Train_pt_DIR+\"/\"+bird+\".pt\"\n",
    "    x_train = torch.load(pt_filepath).view(-1,1,128,216) # to convert to N,C, H, W format\n",
    "    #print(bird, row)\n",
    "    x_train = x_train[row]\n",
    "    x_train = x_train.view(-1,1,128,216)\n",
    "    \n",
    "    y_train = torch.tensor(np.array([0]*len(all_birds))).view(1,-1)\n",
    "    y_train[0,bird_idx] = 1\n",
    "    \n",
    "    return x_train, y_train"
   ]
  },
  {
   "cell_type": "code",
   "execution_count": 6,
   "id": "311c201d",
   "metadata": {},
   "outputs": [],
   "source": [
    "def get_n_training_spectograms_from_file(idx, n_spectograms, TRAINING_VAL_SPLIT):\n",
    "    #get n random spectogram (np format) of selected bird\n",
    "    bird = idx2bird[idx]\n",
    "    pt_filepath = Train_pt_DIR+\"/\"+bird+\".pt\"\n",
    "    x_train = torch.load(pt_filepath).view(-1,1,128,216) # to convert to N,C, H, W format\n",
    "    \n",
    "    train_index = int(TRAINING_VAL_SPLIT*len(x_train)) #80:20 split for training and validation\n",
    "    \n",
    "    indices = torch.randint(0,train_index,(n_spectograms,)) #only sample from training pool\n",
    "    selected_X_train = x_train[indices]\n",
    "    \n",
    "    y_train = torch.tensor(np.array([0]*len(all_birds))).view(1,-1)\n",
    "    y_train[0,idx] = 1\n",
    "    selected_y_train = torch.cat([y_train]*n_spectograms)\n",
    "    \n",
    "    return selected_X_train, selected_y_train"
   ]
  },
  {
   "cell_type": "code",
   "execution_count": 7,
   "id": "a068e157",
   "metadata": {},
   "outputs": [
    {
     "name": "stdout",
     "output_type": "stream",
     "text": [
      "torch.Size([145, 1, 128, 216])\n",
      "torch.Size([325, 1, 128, 216])\n"
     ]
    }
   ],
   "source": [
    "a = torch.load('./train_pt/akiapo.pt')\n",
    "print(a.shape)\n",
    "b = torch.load('./train_pt/redpha1.pt')\n",
    "print(b.shape)"
   ]
  },
  {
   "cell_type": "markdown",
   "id": "0fae65b4",
   "metadata": {},
   "source": [
    "### Noise Reduction"
   ]
  },
  {
   "cell_type": "code",
   "execution_count": 8,
   "id": "b1ffbbae",
   "metadata": {},
   "outputs": [],
   "source": [
    "def noise_reduction(y, sr, plot=True, th=0.3):\n",
    "    from scipy.fft import fft, fftfreq, ifft\n",
    "    \n",
    "    SAMPLE_RATE = 1\n",
    "    DURATION = len(y) / SAMPLE_RATE\n",
    "    N = int(SAMPLE_RATE * DURATION)\n",
    "\n",
    "    yf = fft(y)\n",
    "    xf = fftfreq(N, 1 / SAMPLE_RATE)\n",
    "    \n",
    "    if plot:\n",
    "        fig, axes = plt.subplots(1, 2, figsize=(24, 8))\n",
    "        axes[0].plot(np.arange(len(y)), y)\n",
    "        axes[0].set_title('Before Time-Domain')\n",
    "        axes[1].plot(xf, np.abs(yf))\n",
    "        axes[1].set_title('Before Frequency-Domain')\n",
    "        plt.show()\n",
    "    \n",
    "    # Filtering Low-Pass\n",
    "    new_yf = yf.copy()\n",
    "    middle = len(y) / 2\n",
    "    new_yf[int(middle - len(y) * th):int(middle + len(y) * th)] = 0\n",
    "    new_y = ifft(new_yf)\n",
    "    new_y = new_y.real\n",
    "    \n",
    "    if plot:\n",
    "        fig, axes = plt.subplots(1, 2, figsize=(24, 8))\n",
    "        axes[0].plot(np.arange(len(y)), new_y)\n",
    "        axes[0].set_title('After Time-Domain')\n",
    "        axes[1].plot(xf, np.abs(new_yf))\n",
    "        axes[1].set_title('After Frequency-Domain')\n",
    "        plt.show()\n",
    "\n",
    "    return new_y, sr"
   ]
  },
  {
   "cell_type": "markdown",
   "id": "cb6cb58e",
   "metadata": {},
   "source": [
    "### EDA"
   ]
  },
  {
   "cell_type": "code",
   "execution_count": 9,
   "id": "a5f75b99",
   "metadata": {},
   "outputs": [
    {
     "name": "stdout",
     "output_type": "stream",
     "text": [
      "Total number of birds 152\n"
     ]
    }
   ],
   "source": [
    "all_birds = list(train_df.primary_label.dropna().unique())\n",
    "print('Total number of birds',len(all_birds))"
   ]
  },
  {
   "cell_type": "code",
   "execution_count": 10,
   "id": "d24eed80",
   "metadata": {},
   "outputs": [
    {
     "name": "stdout",
     "output_type": "stream",
     "text": [
      "afrsil1\n"
     ]
    }
   ],
   "source": [
    "print(all_birds[0])"
   ]
  },
  {
   "cell_type": "code",
   "execution_count": 11,
   "id": "cc1b1496",
   "metadata": {},
   "outputs": [],
   "source": [
    "#for mapping of bird (str) to idx (int)\n",
    "bird2idx = {}\n",
    "for i, bird in enumerate(all_birds):\n",
    "    bird2idx[bird] = i\n",
    "    \n",
    "idx2bird = {}\n",
    "for _, (k, v) in enumerate(bird2idx.items()): \n",
    "    idx2bird[v] = k "
   ]
  },
  {
   "cell_type": "code",
   "execution_count": 12,
   "id": "2b9c7216",
   "metadata": {},
   "outputs": [
    {
     "data": {
      "text/plain": [
       "151"
      ]
     },
     "execution_count": 12,
     "metadata": {},
     "output_type": "execute_result"
    }
   ],
   "source": [
    "idx2bird[151]\n",
    "bird2idx['zebdov']"
   ]
  },
  {
   "cell_type": "code",
   "execution_count": 13,
   "id": "b4e9738f",
   "metadata": {},
   "outputs": [
    {
     "name": "stdout",
     "output_type": "stream",
     "text": [
      "Total number of birds 152\n",
      "Scored birds ['akiapo', 'aniani', 'apapan', 'barpet', 'crehon', 'elepai', 'ercfra', 'hawama', 'hawcre', 'hawgoo', 'hawhaw', 'hawpet1', 'houfin', 'iiwi', 'jabwar', 'maupar', 'omao', 'puaioh', 'skylar', 'warwhe1', 'yefcan']\n",
      "Number of scored birds training files \n",
      " akiapo      28\n",
      "aniani      24\n",
      "apapan      91\n",
      "barpet      28\n",
      "crehon       4\n",
      "elepai      28\n",
      "ercfra      12\n",
      "hawama      43\n",
      "hawcre      40\n",
      "hawgoo      18\n",
      "hawhaw       6\n",
      "hawpet1      5\n",
      "houfin     621\n",
      "iiwi        69\n",
      "jabwar     147\n",
      "maupar       2\n",
      "omao        41\n",
      "puaioh       6\n",
      "skylar     940\n",
      "warwhe1    138\n",
      "yefcan      71\n",
      "Name: primary_label, dtype: int64\n",
      "\n",
      "Number of training files per bird\n"
     ]
    },
    {
     "data": {
      "text/plain": [
       "<AxesSubplot:>"
      ]
     },
     "execution_count": 13,
     "metadata": {},
     "output_type": "execute_result"
    },
    {
     "data": {
      "image/png": "[encoded data removed]",
      "text/plain": [
       "<Figure size 432x288 with 1 Axes>"
      ]
     },
     "metadata": {
      "needs_background": "light"
     },
     "output_type": "display_data"
    }
   ],
   "source": [
    "all_birds = list(train_df.primary_label.dropna().unique())\n",
    "print('Total number of birds',len(all_birds))\n",
    "\n",
    "#load scored birds \n",
    "with open(Scored_Bird_DIR) as sbfile:\n",
    "    scored_birds = json.load(sbfile)\n",
    "print('Scored birds',scored_birds)\n",
    "\n",
    "bird_training_sample = train_df.primary_label.value_counts()\n",
    "\n",
    "print('Number of scored birds training files \\n',bird_training_sample.loc[scored_birds])\n",
    "print()\n",
    "print('Number of training files per bird')\n",
    "bird_training_sample.plot(kind='barh')\n"
   ]
  },
  {
   "cell_type": "code",
   "execution_count": 31,
   "id": "dab7b538",
   "metadata": {},
   "outputs": [
    {
     "name": "stderr",
     "output_type": "stream",
     "text": [
      "100%|██████████| 152/152 [00:12<00:00, 11.78it/s]\n"
     ]
    },
    {
     "name": "stdout",
     "output_type": "stream",
     "text": [
      "[('bubsan', 3), ('coopet', 4), ('shtsan', 4), ('layalb', 6), ('mauala', 15), ('puaioh', 18), ('akikik', 20), ('chemun', 22), ('ercfra', 22), ('lessca', 28), ('hudgod', 41), ('brnnod', 42), ('palila', 43), ('hawpet1', 44), ('sopsku1', 44), ('kauama', 45), ('crehon', 46), ('pomjae', 47), ('hawcoo', 48), ('chbsan', 51), ('oahama', 55), ('bulpet', 63), ('wantat1', 63), ('akekee', 65), ('yebcar', 69), ('incter1', 81), ('brtcur', 82), ('hawgoo', 82), ('sooter1', 85), ('brnboo', 87), ('golphe', 88), ('blknod', 90), ('buffle', 92), ('afrsil1', 96), ('whttro', 97), ('cintea', 98), ('maupar', 98), ('madpet', 101), ('ruff', 101), ('hawhaw', 104), ('canvas', 107), ('masboo', 112), ('sooshe', 116), ('bkwpet', 117), ('kalphe', 119), ('whiter', 121), ('grefri', 122), ('burpar', 124), ('rinduc', 126), ('gresca', 134), ('hoomer', 162), ('aniani', 166), ('gryfra', 170), ('fragul', 179), ('refboo', 185), ('lcspet', 189), ('pagplo', 191), ('whfibi', 191), ('wetshe', 208), ('compea', 212), ('akepa1', 214), ('wessan', 218), ('norhar2', 229), ('pecsan', 236), ('buwtea', 239), ('chukar', 240), ('amewig', 242), ('rempar', 249), ('rettro', 251), ('elepai', 262), ('reccar', 267), ('glwgul', 280), ('redava', 280), ('barpet', 283), ('akiapo', 290), ('japqua', 292), ('hawama', 293), ('leasan', 296), ('lotjae', 317), ('parjae', 321), ('redpha1', 325), ('semplo', 342), ('cacgoo1', 343), ('sander', 374), ('magpet1', 379), ('lobdow', 383), ('omao', 398), ('bongul', 403), ('ribgul', 412), ('yefcan', 427), ('laugul', 430), ('norpin', 449), ('nutman', 450), ('blkfra', 526), ('peflov', 526), ('leater1', 549), ('norsho', 589), ('mitpar', 593), ('sposan', 604), ('merlin', 658), ('grbher3', 662), ('iiwi', 679), ('lesyel', 682), ('zebdov', 683), ('spodov', 711), ('redjun', 773), ('belkin1', 788), ('brant', 861), ('apapan', 901), ('warwhe1', 916), ('sheowl', 918), ('bkbplo', 934), ('hawcre', 968), ('caster1', 1085), ('gadwal', 1101), ('categr', 1145), ('rocpig', 1156), ('bknsti', 1165), ('sora', 1165), ('wiltur', 1182), ('saffin', 1226), ('comgal1', 1271), ('rudtur', 1280), ('jabwar', 1315), ('arcter', 1365), ('perfal', 1381), ('towsol', 1414), ('snogoo', 1504), ('gwfgoo', 1712), ('osprey', 1718), ('moudov', 1745), ('eurwig', 1752), ('pibgre', 1797), ('rinphe', 1845), ('comwax', 1992), ('gamqua', 2064), ('calqua', 2075), ('gnwtea', 2200), ('rorpar', 2241), ('cangoo', 2713), ('bcnher', 2841), ('dunlin', 3009), ('comsan', 3124), ('mallar3', 3322), ('wesmea', 4404), ('brnowl', 5011), ('houfin', 5840), ('commyn', 5924), ('norcar', 6248), ('houspa', 7485), ('skylar', 8217), ('normoc', 10245)]\n"
     ]
    },
    {
     "name": "stderr",
     "output_type": "stream",
     "text": [
      "100%|██████████| 21/21 [00:00<?, ?it/s]"
     ]
    },
    {
     "name": "stdout",
     "output_type": "stream",
     "text": [
      "[('puaioh', 18), ('ercfra', 22), ('hawpet1', 44), ('crehon', 46), ('hawgoo', 82), ('maupar', 98), ('hawhaw', 104), ('aniani', 166), ('elepai', 262), ('barpet', 283), ('akiapo', 290), ('hawama', 293), ('omao', 398), ('yefcan', 427), ('iiwi', 679), ('apapan', 901), ('warwhe1', 916), ('hawcre', 968), ('jabwar', 1315), ('houfin', 5840), ('skylar', 8217)]\n"
     ]
    },
    {
     "name": "stderr",
     "output_type": "stream",
     "text": [
      "\n"
     ]
    }
   ],
   "source": [
    "#EDA, did the number of training data (5s) per bird\n",
    "num_training_data = {}\n",
    "for bird in tqdm(all_birds):\n",
    "    _, y_train_bird = get_spectograms_from_file(bird2idx[bird])\n",
    "    num_training_data[bird] = len(y_train_bird)\n",
    "sorted_training_data = sorted(num_training_data.items(), key = lambda kv: kv[1])\n",
    "print(sorted_training_data)\n",
    "\n",
    "scored_bird_training = {}\n",
    "for bird in tqdm(scored_birds):\n",
    "    scored_bird_training[bird] = num_training_data[bird]\n",
    "sorted_scored_bird_training_data = sorted(scored_bird_training.items(), key = lambda kv: kv[1])\n",
    "print(sorted_scored_bird_training_data)"
   ]
  },
  {
   "cell_type": "code",
   "execution_count": 15,
   "id": "0579ea31",
   "metadata": {},
   "outputs": [
    {
     "data": {
      "image/png": "[encoded data removed]",
      "text/plain": [
       "<Figure size 432x288 with 1 Axes>"
      ]
     },
     "metadata": {
      "needs_background": "light"
     },
     "output_type": "display_data"
    },
    {
     "data": {
      "image/png": "[encoded data removed]",
      "text/plain": [
       "<Figure size 432x288 with 1 Axes>"
      ]
     },
     "metadata": {
      "needs_background": "light"
     },
     "output_type": "display_data"
    }
   ],
   "source": [
    "x, y = zip(*sorted_training_data) \n",
    "plt.plot(x, y)\n",
    "plt.show()\n",
    "\n",
    "x, y = zip(*sorted_scored_bird_training_data) \n",
    "plt.plot(x, y)\n",
    "plt.show()"
   ]
  },
  {
   "cell_type": "markdown",
   "id": "c9460921",
   "metadata": {},
   "source": [
    "### Generate training data in .pt"
   ]
  },
  {
   "cell_type": "code",
   "execution_count": 16,
   "id": "6b41035d",
   "metadata": {},
   "outputs": [],
   "source": [
    "def get_spectograms(filename):\n",
    "    chunk_duration = 5 #5sec chunk\n",
    "    duration = librosa.get_duration(filename=filename)\n",
    "    num_spectogram = int(duration/chunk_duration)\n",
    "    spectograms = []\n",
    "    for i in range(num_spectogram):\n",
    "        y, sr = librosa.load(filename, offset=i*chunk_duration, duration=chunk_duration)\n",
    "        #display(\"Old Audio\", ipd.Audio(data=y, rate=sr))\n",
    "        nr_y, nr_sr = noise_reduction(y, sr, plot=False, th=0.3)\n",
    "        #display(\"New Audio\", ipd.Audio(data=nr_y, rate=sr))\n",
    "        S = librosa.feature.melspectrogram(y=nr_y, sr=nr_sr)\n",
    "        S_DB = librosa.power_to_db(S, ref=np.max)\n",
    "        if S_DB.shape != (128,216):\n",
    "            temp = np.full((128,216),-80)\n",
    "            temp[:S_DB.shape[0],:S_DB.shape[1]] = S_DB\n",
    "            S_DB = temp\n",
    "        spectograms.append(S_DB)\n",
    "    return spectograms"
   ]
  },
  {
   "cell_type": "code",
   "execution_count": 17,
   "id": "5ff9c339",
   "metadata": {},
   "outputs": [
    {
     "name": "stderr",
     "output_type": "stream",
     "text": [
      "100%|██████████| 1096/1096 [15:34<00:00,  1.17it/s]\n"
     ]
    }
   ],
   "source": [
    "'''#generate pt files\n",
    "num_audio_files = train_df.shape[0]\n",
    "\n",
    "spectograms_list = []\n",
    "for i in tqdm(range(num_audio_files)):\n",
    "    current_bird = train_df.primary_label.loc[i]\n",
    "    #print('previous_bird',previous_bird)\n",
    "    #print('current_bird',current_bird)\n",
    "    spectograms_list += get_spectograms(train_df['dir'].iloc[i])\n",
    "    if i+1 == num_audio_files:\n",
    "        torch.save(torch.tensor(np.array(spectograms_list)), './train_pt/'+current_bird+'.pt')\n",
    "    else:\n",
    "        next_bird = train_df.primary_label.loc[i+1]\n",
    "        #print('next_bird',next_bird)\n",
    "        if next_bird != current_bird:\n",
    "            torch.save(torch.tensor(np.array(spectograms_list)), './train_pt/'+current_bird+'.pt')\n",
    "            spectograms_list = []\n",
    "    previous_bird = current_bird\n",
    "    #print(spectograms_list[0])'''\n",
    "\n",
    "'''\n",
    "def update_pt(filename, additional_data):\n",
    "    existing = torch.load(filename).view(-1,1,128,216)\n",
    "    updated = torch.cat((additional_data.view(-1,1,128,216),existing),0)\n",
    "    torch.save(updated, filename)\n",
    "    return None\n",
    "\n",
    "#generate additional rows of pt data from mixIT\n",
    "num_audio_files = 1096 # additional 1096 mixit files for scored birds\n",
    "\n",
    "spectograms_list = []\n",
    "\n",
    "for i in tqdm(range(14851, 14851+num_audio_files)):\n",
    "    \n",
    "    current_bird = train_df.primary_label.loc[i]\n",
    "    #print('previous_bird',previous_bird)\n",
    "    #print('current_bird',current_bird)\n",
    "    spectograms_list += get_spectograms(train_df['dir'].iloc[i])\n",
    "    if i+1 == num_audio_files:\n",
    "        filename = './train_pt/'+current_bird+'.pt'\n",
    "        additional_data = torch.tensor(np.array(spectograms_list))\n",
    "        update_pt(filename, additional_data)\n",
    "        #torch.save(torch.tensor(np.array(spectograms_list)), './train_pt/'+current_bird+'.pt')\n",
    "    else:\n",
    "        next_bird = train_df.primary_label.loc[i+1]\n",
    "        #print('next_bird',next_bird)\n",
    "        if next_bird != current_bird:\n",
    "            #torch.save(torch.tensor(np.array(spectograms_list)), './train_pt/'+current_bird+'.pt')\n",
    "            filename = './train_pt/'+current_bird+'.pt'\n",
    "            additional_data = torch.tensor(np.array(spectograms_list))\n",
    "            update_pt(filename, additional_data)\n",
    "            spectograms_list = []\n",
    "    previous_bird = current_bird'''"
   ]
  },
  {
   "cell_type": "markdown",
   "id": "913a4ddf",
   "metadata": {},
   "source": [
    "### Get the audio rating for each of the training sample"
   ]
  },
  {
   "cell_type": "code",
   "execution_count": 27,
   "id": "00a25d3f",
   "metadata": {},
   "outputs": [
    {
     "name": "stderr",
     "output_type": "stream",
     "text": [
      "100%|██████████| 15948/15948 [00:36<00:00, 440.68it/s]\n"
     ]
    }
   ],
   "source": [
    "'''num_audio_files = train_df.shape[0]\n",
    "\n",
    "def get_num_spectograms_per_audio(filename):\n",
    "    chunk_duration = 5 #5sec chunk\n",
    "    duration = librosa.get_duration(filename=filename)\n",
    "    num_spectogram = int(duration/chunk_duration)\n",
    "    \n",
    "    return num_spectogram\n",
    "\n",
    "bird_audio_rating_mapping = {}\n",
    "for bird in all_birds:\n",
    "    bird_audio_rating_mapping[bird] = []\n",
    "audio_rating_list = []\n",
    "for i in tqdm(range(num_audio_files)):\n",
    "    current_bird = train_df.primary_label.loc[i]\n",
    "    audio_rating = train_df['rating'].iloc[i]\n",
    "    if audio_rating == 0:\n",
    "        audio_rating = 2.5\n",
    "    num_spec = get_num_spectograms_per_audio(train_df['dir'].iloc[i])\n",
    "    audio_rating_list += [audio_rating]*num_spec\n",
    "    if i+1 == num_audio_files:\n",
    "        bird_audio_rating_mapping[current_bird] = audio_rating_list\n",
    "        #torch.save(torch.tensor(np.array(spectograms_list)), './train_pt/'+current_bird+'.pt')\n",
    "    else:\n",
    "        next_bird = train_df.primary_label.loc[i+1]\n",
    "        if next_bird != current_bird:\n",
    "            bird_audio_rating_mapping[current_bird] = audio_rating_list\n",
    "            #torch.save(torch.tensor(np.array(spectograms_list)), './train_pt/'+current_bird+'.pt')\n",
    "            audio_rating_list = bird_audio_rating_mapping[next_bird]\n",
    "    previous_bird = current_bird\n",
    "\n",
    "#save the mapping into file\n",
    "rating_file = open(\"bird_audio_rating_mapping.pkl\", \"wb\")\n",
    "pickle.dump(bird_audio_rating_mapping, rating_file)\n",
    "rating_file.close()'''"
   ]
  },
  {
   "cell_type": "code",
   "execution_count": 28,
   "id": "406a07a3",
   "metadata": {},
   "outputs": [],
   "source": [
    "rating_file = open(Audio_Rating_Dir, \"rb\")\n",
    "bird_audio_rating_mapping = pickle.load(rating_file)\n",
    "#print(bird_audio_rating_mapping)\n",
    "rating_file.close()"
   ]
  },
  {
   "cell_type": "code",
   "execution_count": 32,
   "id": "cbfaedf0",
   "metadata": {},
   "outputs": [
    {
     "name": "stdout",
     "output_type": "stream",
     "text": [
      "[10.0, 10.0, 10.0, 10.0, 10.0, 10.0, 10.0, 6.5, 6.5, 6.5, 6.5, 6.5, 6.5, 6.5, 6.5, 6.5, 6.5, 6.5, 6.5, 6.5, 6.5, 6.5, 6.5, 6.5, 6.5, 5.5, 5.5, 5.5, 5.5, 5.5, 5.5, 5.5, 5.5, 5.5, 5.5, 5.5, 5.5, 5.5, 5.5, 5.5, 5.5, 5.5, 5.5, 5.5, 5.5, 5.5, 5.5, 5.5, 5.5, 5.5, 5.5, 5.5, 5.5, 5.5, 5.5, 5.5, 5.5, 5.5, 5.5, 5.5, 5.5, 5.5, 5.5, 5.5, 5.5, 5.5, 5.5, 5.5, 5.5, 4.5, 4.5, 4.5, 4.5, 4.5, 4.5, 4.5, 4.5, 4.5, 4.5, 4.5, 4.5, 4.5, 4.5, 6.5, 6.5, 6.5, 6.5, 6.5, 6.5, 6.5, 6.5, 6.5, 6.5, 6.5, 6.5, 6.5, 6.5, 5.5, 5.5, 5.5, 5.5, 5.5, 5.5, 5.5, 5.5, 5.5, 5.5, 5.5, 5.5, 5.5, 5.5, 5.5, 5.5, 5.5, 5.5, 5.5, 5.5, 5.5, 5.5, 5.5, 5.5, 5.5, 5.5, 5.5, 5.5, 5.5, 4.5, 4.5, 4.5, 4.5, 4.5, 4.5, 4.5, 4.5, 4.5, 4.5, 4.5, 4.5, 4.5, 4.5, 6.5, 6.5, 5.5, 5.5, 5.5, 4.5, 4.5, 4.5, 4.5, 4.5, 4.5, 4.5, 4.5, 4.5, 4.5, 4.5, 4.5, 4.5, 4.5, 4.5, 4.5, 4.5, 4.5, 3.5, 3.5, 3.5, 3.5, 3.5, 3.5, 3.5, 3.5, 3.5, 3.5, 3.5, 3.5, 3.5, 3.5, 3.5, 3.5, 3.5, 3.5, 3.5, 3.5, 3.5, 3.5, 3.5, 3.5, 3.5, 3.5, 3.5, 3.5, 3.5, 3.5, 3.5, 3.5, 3.5, 3.5, 3.5, 3.5, 3.5, 3.5, 3.5, 3.5, 3.5, 3.5, 3.5, 3.5, 2.5, 2.5, 2.5, 2.5, 2.5, 2.5, 2.5, 2.5, 2.5, 2.5, 2.5, 2.5, 2.5, 2.5, 4.5, 4.5, 4.5, 4.5, 4.5, 4.5, 4.5, 4.5, 4.5, 4.5, 4.5, 4.5, 4.5, 4.5, 3.5, 3.5, 3.5, 3.5, 3.5, 3.5, 3.5, 3.5, 3.5, 3.5, 3.5, 3.5, 3.5, 3.5, 3.5, 3.5, 3.5, 3.5, 3.5, 3.5, 3.5, 3.5, 3.5, 4.0, 4.0, 3.5, 3.5, 3.5, 3.5, 3.5, 3.5, 2.5, 2.5, 2.5, 2.5, 2.5, 2.5, 2.5, 2.5, 2.5, 2.5, 2.5, 2.5, 2.5, 2.5, 5.0, 5.0, 5.0, 5.0, 5.0, 4.5, 4.5, 3.5, 3.5, 3.5]\n",
      "290\n",
      "290\n"
     ]
    }
   ],
   "source": [
    "print(bird_audio_rating_mapping['akiapo'])\n",
    "print(len(bird_audio_rating_mapping['akiapo']))\n",
    "print((num_training_data['akiapo']))"
   ]
  },
  {
   "cell_type": "code",
   "execution_count": 33,
   "id": "e421c08d",
   "metadata": {},
   "outputs": [
    {
     "name": "stdout",
     "output_type": "stream",
     "text": [
      "torch.Size([290, 1, 128, 216])\n"
     ]
    }
   ],
   "source": [
    "a = torch.load('./train_pt/akiapo.pt')\n",
    "print(a.shape)"
   ]
  },
  {
   "cell_type": "markdown",
   "id": "841678bc",
   "metadata": {},
   "source": [
    "### Training"
   ]
  },
  {
   "cell_type": "code",
   "execution_count": 34,
   "id": "25ce365a",
   "metadata": {
    "scrolled": true
   },
   "outputs": [
    {
     "name": "stdout",
     "output_type": "stream",
     "text": [
      "[116, 131, 97, 51, 45, 56, 138, 149, 133, 21, 145, 129, 53, 111, 122, 58, 103, 42, 106, 87, 78, 36, 148, 102, 8, 85, 13, 60, 126, 94, 73, 26, 112, 130, 50, 23, 104, 150, 93, 38, 72, 134, 16, 7, 59, 125, 95, 39, 80, 135, 30, 28, 62, 54, 124, 31, 92, 5, 67, 19, 61, 132, 88, 113, 99, 115, 89, 63, 24, 90, 33, 29, 75, 70, 83, 65, 35, 109, 43, 46, 79, 6, 128, 144, 71, 81, 52, 1, 76, 121, 9, 47, 143, 137, 119, 34, 114, 127, 57, 86, 2, 66, 14, 49, 32, 10, 48, 0, 105, 91, 147, 108, 118, 82, 22, 123, 15, 142, 120, 12, 151, 41, 100, 141, 27, 40, 4, 146, 107, 37, 3, 96, 74, 64, 55, 98, 139, 11, 140, 101, 136, 69, 25, 44, 20, 117, 17, 18, 84, 68, 77, 110]\n",
      "\n",
      "['refboo', 'skylar', 'norpin', 'gamqua', 'dunlin', 'grefri', 'sposan', 'yebcar', 'sooshe', 'brnowl', 'whfibi', 'sheowl', 'gnwtea', 'puaioh', 'rocpig', 'gryfra', 'pagplo', 'comwax', 'pecsan', 'mallar3', 'lcspet', 'chukar', 'wiltur', 'osprey', 'arcter', 'madpet', 'bknsti', 'hawama', 'saffin', 'norcar', 'japqua', 'burpar', 'reccar', 'shtsan', 'gadwal', 'bubsan', 'palila', 'yefcan', 'moudov', 'comgal1', 'jabwar', 'sooter1', 'blknod', 'apapan', 'gwfgoo', 'ruff', 'norhar2', 'commyn', 'leater1', 'sopsku1', 'cangoo', 'cacgoo1', 'hawcre', 'golphe', 'rudtur', 'canvas', 'mitpar', 'amewig', 'houfin', 'brnboo', 'hawcoo', 'snogoo', 'masboo', 'redava', 'nutman', 'redpha1', 'mauala', 'hawgoo', 'buffle', 'maupar', 'categr', 'calqua', 'kauama', 'iiwi', 'lobdow', 'hawpet1', 'chemun', 'pibgre', 'coopet', 'elepai', 'leasan', 'aniani', 'semplo', 'wetshe', 'incter1', 'lessca', 'glwgul', 'akekee', 'laugul', 'rinphe', 'barpet', 'ercfra', 'wessan', 'spodov', 'ribgul', 'chbsan', 'redjun', 'sander', 'gresca', 'magpet1', 'akepa1', 'hoomer', 'bkwpet', 'fragul', 'caster1', 'bcnher', 'eurwig', 'afrsil1', 'parjae', 'merlin', 'whttro', 'perfal', 'rettro', 'lesyel', 'brtcur', 'rorpar', 'blkfra', 'wesmea', 'rinduc', 'bkbplo', 'zebdov', 'comsan', 'oahama', 'warwhe1', 'buwtea', 'compea', 'akikik', 'whiter', 'peflov', 'cintea', 'akiapo', 'normoc', 'kalphe', 'hawhaw', 'grbher3', 'norsho', 'towsol', 'belkin1', 'wantat1', 'omao', 'sora', 'hudgod', 'bulpet', 'crehon', 'brnnod', 'rempar', 'bongul', 'brant', 'lotjae', 'houspa', 'layalb', 'pomjae']\n"
     ]
    }
   ],
   "source": [
    "training_seq = [i for i in range(len(all_birds))]\n",
    "random.shuffle(training_seq)\n",
    "print(training_seq)\n",
    "print()\n",
    "training_seq_bird = [idx2bird[i] for i in training_seq]\n",
    "print(training_seq_bird)"
   ]
  },
  {
   "cell_type": "markdown",
   "id": "deded270",
   "metadata": {},
   "source": [
    "### Model"
   ]
  },
  {
   "cell_type": "code",
   "execution_count": 35,
   "id": "46592f36",
   "metadata": {},
   "outputs": [
    {
     "name": "stdout",
     "output_type": "stream",
     "text": [
      "6441926656\n",
      "0\n",
      "0\n",
      "0\n"
     ]
    }
   ],
   "source": [
    "torch.cuda.empty_cache()\n",
    "t = torch.cuda.get_device_properties(0).total_memory\n",
    "r = torch.cuda.memory_reserved(0)\n",
    "a = torch.cuda.memory_allocated(0)\n",
    "f = r-a  # free inside reserved\n",
    "print(t)\n",
    "print(r)\n",
    "print(a)\n",
    "print(f)"
   ]
  },
  {
   "cell_type": "code",
   "execution_count": 36,
   "id": "fad65f53",
   "metadata": {},
   "outputs": [],
   "source": [
    "def get_more_samples_indices(idx,additional_num_samples,rating_weights):\n",
    "    #x train\n",
    "    #e.g. i need 512, but i only have 500\n",
    "    #total_samples = len(y_train_bird)\n",
    "    indices = torch.multinomial(rating_weights,additional_num_samples,replacement=True) #generate the random index, \n",
    "    #e.g. [0,99,54,46,56,35,245,6,8,8,2]\n",
    "    #indices = torch.randint(0,total_samples,(additional_num_samples,))\n",
    "\n",
    "    additional_X_train_bird = X_train_bird[indices]\n",
    "    additional_y_train_bird = y_train_bird[indices]\n",
    "    \n",
    "    return additional_X_train_bird, additional_y_train_bird"
   ]
  },
  {
   "cell_type": "code",
   "execution_count": 37,
   "id": "65c45508",
   "metadata": {},
   "outputs": [],
   "source": [
    "def initialise_training_sample_for_each_bird():\n",
    "    # to create an array to predetermine which training sample to use in each epoch\n",
    "    train_epoch_arr = torch.zeros((len(all_birds),total_sample_per_bird_per_epoch))\n",
    "    for i in range(len(all_birds)):\n",
    "        bird = idx2bird[i]\n",
    "        '''draw samples - up or down sampling'''\n",
    "        for j in range(num_sample_per_bird_per_epoch): #deteremine if down or upsample\n",
    "            num_training_set = int(num_training_data[bird]*TRAINING_VAL_SPLIT)\n",
    "            #higher rating audio will have higher chance of being sampled\n",
    "            rating_audio = bird_audio_rating_mapping[bird] \n",
    "            rating_audio_tensor = torch.tensor(np.array(rating_audio))\n",
    "            rating_weights = rating_audio_tensor[0:num_training_set]\n",
    "            #draw samples for the first 512 block (up or downsampling)\n",
    "            if num_training_set < num_sample_per_bird_per_epoch: \n",
    "                train_epoch_arr[i][:num_training_set] = torch.arange(num_training_set)\n",
    "                additional_num_samples = num_sample_per_bird_per_epoch-num_training_set\n",
    "                indices = torch.multinomial(rating_weights,additional_num_samples,replacement=True)\n",
    "                train_epoch_arr[i][num_training_set:num_sample_per_bird_per_epoch] = indices\n",
    "            elif  num_training_set > num_sample_per_bird_per_epoch: \n",
    "                indices = torch.multinomial(rating_weights,num_sample_per_bird_per_epoch)\n",
    "                train_epoch_arr[i][:num_sample_per_bird_per_epoch] = indices\n",
    "        '''draw samples - for mixup'''\n",
    "        for j in range(num_sample_per_bird_per_epoch, num_sample_per_bird_per_epoch+num_mixup_per_bird_per_epoch):\n",
    "            indices = torch.randint(0,num_sample_per_bird_per_epoch,(num_mixup_per_bird_per_epoch,))\n",
    "            indices = train_epoch_arr[i][indices]\n",
    "            train_epoch_arr[i][num_sample_per_bird_per_epoch:num_sample_per_bird_per_epoch+num_mixup_per_bird_per_epoch] = indices\n",
    "        '''draw samples - for specaugment'''\n",
    "        for j in range(num_sample_per_bird_per_epoch+num_mixup_per_bird_per_epoch,total_sample_per_bird_per_epoch):\n",
    "            indices = torch.randint(0,num_sample_per_bird_per_epoch,(num_specaugment_per_bird_per_epoch,))\n",
    "            indices = train_epoch_arr[i][indices]\n",
    "            train_epoch_arr[i][num_sample_per_bird_per_epoch+num_mixup_per_bird_per_epoch:] = indices\n",
    "\n",
    "    return train_epoch_arr"
   ]
  },
  {
   "cell_type": "code",
   "execution_count": 38,
   "id": "98d321d8",
   "metadata": {},
   "outputs": [],
   "source": [
    "def initialise_mixup_sample_for_each_bird():\n",
    "    # to create an array to predetermine which training sample to use for mixup\n",
    "    mixup_target_bird_arr = [np.random.randint(0,len(all_birds),(num_mixup_per_bird_per_epoch)) for i in range(len(all_birds))]\n",
    "    mixup_target_bird_arr = np.array(mixup_target_bird_arr)\n",
    "    #print(mixup_target_bird_arr.shape)\n",
    "    \n",
    "    mixup_target_bird_index_arr = np.zeros((len(all_birds),num_mixup_per_bird_per_epoch),dtype=int)\n",
    "    for i in range(len(mixup_target_bird_arr)):\n",
    "        for j in range(num_mixup_per_bird_per_epoch):\n",
    "            bird_idx = mixup_target_bird_arr[i][j]\n",
    "            bird = idx2bird[bird_idx]\n",
    "            mixup_target_bird_index_arr[i][j] = random.randint(0, num_training_data[bird]-1)\n",
    "    \n",
    "    #print(mixup_target_bird_index_arr.shape)\n",
    "    return mixup_target_bird_arr, mixup_target_bird_index_arr"
   ]
  },
  {
   "cell_type": "code",
   "execution_count": 39,
   "id": "5ea033ae",
   "metadata": {},
   "outputs": [],
   "source": [
    "def mixup(X_source, y_source, X_target, y_target): \n",
    "    lambda_factor = torch.randn(1) \n",
    "    mixup_X_train = X_source*lambda_factor + X_target*(1-lambda_factor)\n",
    "    mixup_y_train = y_source*lambda_factor + y_target*(1-lambda_factor)\n",
    "    return mixup_X_train, mixup_y_train\n",
    "\n",
    "def spec_augment(spec, num_mask=1, \n",
    "                 freq_masking_max_percentage=0.1, time_masking_max_percentage=0.1):\n",
    "    \n",
    "    spec = spec.detach().clone()\n",
    "    for i in range(num_mask):\n",
    "        all_frames_num, all_freqs_num = spec.shape\n",
    "        freq_percentage = random.uniform(0.0, freq_masking_max_percentage)\n",
    "        \n",
    "        num_freqs_to_mask = int(freq_percentage * all_freqs_num)\n",
    "        f0 = np.random.uniform(low=0.0, high=all_freqs_num - num_freqs_to_mask)\n",
    "        f0 = int(f0)\n",
    "        spec[:, f0:f0 + num_freqs_to_mask] = 0\n",
    "\n",
    "        time_percentage = random.uniform(0.0, time_masking_max_percentage)\n",
    "        \n",
    "        num_frames_to_mask = int(time_percentage * all_frames_num)\n",
    "        t0 = np.random.uniform(low=0.0, high=all_frames_num - num_frames_to_mask)\n",
    "        t0 = int(t0)\n",
    "        spec[t0:t0 + num_frames_to_mask, :] = 0\n",
    "    \n",
    "    return spec"
   ]
  },
  {
   "cell_type": "code",
   "execution_count": 40,
   "id": "93326f9b",
   "metadata": {},
   "outputs": [],
   "source": [
    "def get_batch_training_data(sample_seq, train_epoch_arr, mixup_target_bird_arr, mixup_target_bird_index_arr):\n",
    "    #sample_seq = np.sort(sample_seq) \n",
    "    \n",
    "    X_train = torch.empty(0,1,128,216)\n",
    "    y_train = torch.empty(0,152)\n",
    "    \n",
    "    for i in range(len(sample_seq)):\n",
    "        sample_bird_type = sample_seq[i]//total_sample_per_bird_per_epoch\n",
    "        sample_arr_index = sample_seq[i]%total_sample_per_bird_per_epoch\n",
    "        sample_bird_index = int(train_epoch_arr[sample_bird_type][sample_arr_index])\n",
    "        \n",
    "        #print('sample_bird_type',sample_bird_type)\n",
    "        #print('sample_arr_index',sample_arr_index)\n",
    "        #print('sample_bird_index',sample_bird_index)\n",
    "        \n",
    "        if sample_arr_index < num_sample_per_bird_per_epoch:\n",
    "            #print('Normal')\n",
    "            #normal sample - up or down sampling\n",
    "            X_sample, y_sample = get_single_spectogram_from_file(sample_bird_type,sample_bird_index)\n",
    "        elif sample_arr_index >= num_sample_per_bird_per_epoch and sample_arr_index < num_sample_per_bird_per_epoch+num_mixup_per_bird_per_epoch:\n",
    "            #sample to be mixup\n",
    "            #print('Mixup')\n",
    "            X_sample, y_sample = get_single_spectogram_from_file(sample_bird_type,sample_bird_index)\n",
    "            \n",
    "            mixup_arr_index = sample_arr_index-num_sample_per_bird_per_epoch\n",
    "            sample_mixup_bird_type = mixup_target_bird_arr[sample_bird_type][mixup_arr_index]\n",
    "            sample_mixup_bird_index = mixup_target_bird_index_arr[sample_bird_type][mixup_arr_index]\n",
    "            #print('sample_mixup_bird_type',sample_mixup_bird_type)\n",
    "            #print('sample_mixup_bird_index',sample_mixup_bird_index)\n",
    "            \n",
    "            X_mixup_target_sample, y_mixup_target_sample = get_single_spectogram_from_file(sample_mixup_bird_type,sample_mixup_bird_index)\n",
    "            \n",
    "            mixup_X_train, mixup_y_train = mixup(X_sample, y_sample, X_mixup_target_sample, y_mixup_target_sample)\n",
    "            \n",
    "        else:\n",
    "            #sample to be specAugment\n",
    "            #print('specAugment')\n",
    "            X_sample, y_sample = get_single_spectogram_from_file(sample_bird_type,sample_bird_index)\n",
    "            X_sample = spec_augment(X_sample.squeeze()).view(1, 1,X_sample.shape[2],X_sample.shape[3])\n",
    "            \n",
    "        \n",
    "        X_train = torch.cat((X_train,X_sample),0)\n",
    "        y_train = torch.cat((y_train,y_sample),0)\n",
    "            \n",
    "    return X_train, y_train"
   ]
  },
  {
   "cell_type": "code",
   "execution_count": 41,
   "id": "d4edca49",
   "metadata": {},
   "outputs": [],
   "source": [
    "TRAINING_VAL_SPLIT = 0.8 #0.8 means 80% of training data will be considered for training, 20% for validation (untouched)\n",
    "num_sample_per_bird_per_epoch = 512\n",
    "num_mixup_per_bird_per_epoch = 128\n",
    "num_specaugment_per_bird_per_epoch = 64\n",
    "total_sample_per_bird_per_epoch = num_sample_per_bird_per_epoch+num_mixup_per_bird_per_epoch+num_specaugment_per_bird_per_epoch\n",
    "num_samples_per_epoch = 152*total_sample_per_bird_per_epoch"
   ]
  },
  {
   "cell_type": "code",
   "execution_count": 42,
   "id": "4271d43d",
   "metadata": {},
   "outputs": [],
   "source": [
    "def train_model(model, criterion, optimizer, num_epochs, batch_size, training_seq):\n",
    "    since = time.time()\n",
    "\n",
    "    best_model_wts = copy.deepcopy(model.state_dict())\n",
    "    best_acc = 0.0\n",
    "    best_scored_model_wts = copy.deepcopy(model.state_dict())\n",
    "    scored_best_acc = 0.0\n",
    "    #to track ind scored bird\n",
    "    bird_acc = {}\n",
    "    bird_running_corrects = {}\n",
    "    bird_dataset = {}\n",
    "    \n",
    "    overall_result = []\n",
    "    \n",
    "    \n",
    "    for epoch in (range(num_epochs)):\n",
    "        epoch_since = time.time()\n",
    "        print(f'Epoch {epoch}/{num_epochs - 1}')\n",
    "        print('-' * 10)\n",
    "        \n",
    "        epoch_result = []\n",
    "        \n",
    "        for phase in ['train', 'val']:\n",
    "        #for phase in ['val']:\n",
    "            if phase == 'train':\n",
    "                model.train()  # Set model to training mode\n",
    "            else:\n",
    "                model.eval()   # Set model to evaluate mode\n",
    "            \n",
    "            running_loss = 0.0\n",
    "            running_corrects = 0\n",
    "            dataset_size =0\n",
    "            \n",
    "            #scored bird stats\n",
    "            scored_running_corrects = 0\n",
    "            scored_dataset_size = 0\n",
    "            \n",
    "            for bird in scored_birds:\n",
    "                bird_acc[bird] = 0.0\n",
    "                bird_running_corrects[bird] = 0\n",
    "                bird_dataset[bird] = 0\n",
    "            \n",
    "            #\n",
    "            \n",
    "            if phase == 'train':\n",
    "                sample_seq = np.arange(num_samples_per_epoch)\n",
    "                random.shuffle(sample_seq)\n",
    "\n",
    "                train_epoch_arr = initialise_training_sample_for_each_bird()\n",
    "                mixup_target_bird_arr, mixup_target_bird_index_arr = initialise_mixup_sample_for_each_bird()\n",
    "\n",
    "                num_batch = int(num_samples_per_epoch/batch_size)\n",
    "\n",
    "                for batch in tqdm(range(num_batch)):\n",
    "                    X_train, y_train = get_batch_training_data(sample_seq[batch*batch_size:(batch+1)*batch_size], train_epoch_arr, mixup_target_bird_arr, mixup_target_bird_index_arr)\n",
    "                    X_train = X_train.to(device)\n",
    "                    y_train = y_train.to(device)\n",
    "                    optimizer.zero_grad()\n",
    "                    outputs = model(X_train)\n",
    "                    _, preds = torch.max(outputs, 1)\n",
    "                    loss = criterion(outputs, y_train.type(torch.float))\n",
    "                    loss.backward()\n",
    "                    optimizer.step()\n",
    "                        \n",
    "                    # statistics\n",
    "                    running_loss += loss.item() * X_train.size(0)\n",
    "                    _,ground_truth = torch.max(y_train, 1)\n",
    "                    running_corrects += torch.sum(preds == ground_truth)\n",
    "                    dataset_size += X_train.size(0)\n",
    "                    \n",
    "                    #clear memory\n",
    "                    del X_train\n",
    "                    del y_train\n",
    "                    gc.collect()\n",
    "                    torch.cuda.empty_cache()\n",
    "            else:\n",
    "                #val phase\n",
    "                for bird_idx in tqdm(range(len(all_birds))):\n",
    "                    X_bird, y_bird = get_spectograms_from_file(bird_idx)\n",
    "                    bird = idx2bird[bird_idx]\n",
    "                    val_index = int(num_training_data[bird]*TRAINING_VAL_SPLIT)\n",
    "                    #print('bird_idx',bird_idx)\n",
    "                    #print('bird',bird)\n",
    "                    #print(\"num_training_data[bird]\",num_training_data[bird])\n",
    "                    #print(\"val_index\",val_index)\n",
    "                    X_val_bird = X_bird[val_index:]\n",
    "                    y_val_bird = y_bird[val_index:]\n",
    "                    num_batch = max(1,int(len(y_val_bird)/batch_size))\n",
    "                    #print(\"num_batch\",num_batch)\n",
    "                    for batch in (range(num_batch)):\n",
    "                        X_train = X_val_bird[batch*batch_size : (batch+1)*batch_size]\n",
    "                        y_train = y_val_bird[batch*batch_size : (batch+1)*batch_size]\n",
    "                        #print(X_train.shape)\n",
    "                        #print(y_train.shape)\n",
    "                        X_train = X_train.to(device)\n",
    "                        y_train = y_train.to(device)\n",
    "                        with torch.no_grad():\n",
    "                            outputs = model(X_train)\n",
    "                            _, preds = torch.max(outputs, 1)\n",
    "                            loss = criterion(outputs, y_train.type(torch.float))\n",
    "\n",
    "                        # statistics\n",
    "                        running_loss += loss.item() * X_train.size(0)\n",
    "                        _,ground_truth = torch.max(y_train, 1)\n",
    "                        running_corrects += torch.sum(preds == ground_truth)\n",
    "                        dataset_size += X_train.size(0)\n",
    "                        if bird in scored_birds:\n",
    "                            scored_running_corrects += torch.sum(preds == ground_truth)\n",
    "                            scored_dataset_size += X_train.size(0)\n",
    "                            bird_running_corrects[bird] += torch.sum(preds == ground_truth)\n",
    "                            bird_dataset[bird] += X_train.size(0)\n",
    "\n",
    "                        #clear memory\n",
    "                        del X_train\n",
    "                        del y_train\n",
    "                        gc.collect()\n",
    "                        torch.cuda.empty_cache()\n",
    "\n",
    "            #statistics\n",
    "            epoch_loss = running_loss / dataset_size\n",
    "            epoch_acc = running_corrects.double() / dataset_size\n",
    "            if phase == 'val':\n",
    "                epoch_scored_acc = scored_running_corrects.double() / scored_dataset_size\n",
    "                for bird in scored_birds:\n",
    "                    bird_acc[bird] = (bird_running_corrects[bird].double()/bird_dataset[bird]).item()\n",
    "            \n",
    "            #for output to csv\n",
    "            epoch_result.append(phase)\n",
    "            epoch_result.append(epoch_loss)\n",
    "            epoch_result.append(epoch_acc.item())\n",
    "\n",
    "            if phase == 'train':\n",
    "                print(f'{phase} Loss: {epoch_loss:.4f} Acc: {epoch_acc:.4f}')\n",
    "\n",
    "            if phase == 'val':\n",
    "                epoch_scored_acc = scored_running_corrects.double() / scored_dataset_size\n",
    "                print(f'{phase} Loss: {epoch_loss:.4f} Acc: {epoch_acc:.4f} Scored_Acc: {epoch_scored_acc:.4f}')\n",
    "                epoch_result.append(epoch_scored_acc.item())\n",
    "                epoch_result.append(bird_acc)\n",
    "            \n",
    "            time_elapsed = time.time() - epoch_since\n",
    "            print(f'Time_elapsed {time_elapsed // 60:.0f}m {time_elapsed % 60:.0f}s')\n",
    "            \n",
    "             # deep copy the model\n",
    "            if phase == 'val' and epoch_acc > best_acc:\n",
    "                best_acc = epoch_acc\n",
    "                best_model_wts = copy.deepcopy(model.state_dict())\n",
    "                torch.save(model.state_dict(), './best_model_parameters.pt')\n",
    "                \n",
    "            if phase == 'val' and epoch_scored_acc > scored_best_acc:\n",
    "                scored_best_acc = epoch_scored_acc\n",
    "                best_scored_model_wts = copy.deepcopy(model.state_dict())\n",
    "                torch.save(model.state_dict(), './best_scored_model_parameters.pt')\n",
    "                \n",
    "            \n",
    "            torch.save(model.state_dict(), './last_model_parameters.pt')\n",
    "        overall_result.append(epoch_result)\n",
    "        df = pd.DataFrame(overall_result, columns =['Phase1', 'Phase1_Loss', 'Phase1_Acc','Phase2', 'Phase2_Loss', 'Phase2_Acc','Scored_acc','Bird_Acc'])\n",
    "        df.to_csv('overall_results.csv')\n",
    "        print()\n",
    "        \n",
    "    time_elapsed = time.time() - since\n",
    "    print(f'Training complete in {time_elapsed // 60:.0f}m {time_elapsed % 60:.0f}s')\n",
    "    print(f'Best val Acc: {best_acc:4f}')\n",
    "\n",
    "    # load best model weights\n",
    "    model.load_state_dict(best_model_wts)\n",
    "    return model, overall_result"
   ]
  },
  {
   "cell_type": "markdown",
   "id": "2e342fed",
   "metadata": {},
   "source": [
    "### ViT"
   ]
  },
  {
   "cell_type": "code",
   "execution_count": 43,
   "id": "32f50eba",
   "metadata": {},
   "outputs": [],
   "source": [
    "### credits: https://medium.com/mlearning-ai/vision-transformers-from-scratch-pytorch-a-step-by-step-guide-96c3313c2e0c"
   ]
  },
  {
   "cell_type": "code",
   "execution_count": 44,
   "id": "4e34d551",
   "metadata": {},
   "outputs": [],
   "source": [
    "def get_positional_embeddings(sequence_length, d):\n",
    "    result = torch.ones(sequence_length, d)\n",
    "    for i in range(sequence_length):\n",
    "        for j in range(d):\n",
    "            result[i][j] = np.sin(i / (10000 ** (j / d))) if j % 2 == 0 else np.cos(i / (10000 ** ((j - 1) / d)))\n",
    "    return result"
   ]
  },
  {
   "cell_type": "code",
   "execution_count": 45,
   "id": "41d74a16",
   "metadata": {},
   "outputs": [],
   "source": [
    "class MyMSA(nn.Module):\n",
    "    def __init__(self, d, n_heads=2, device = 'cpu'):\n",
    "        super(MyMSA, self).__init__()\n",
    "        self.d = d\n",
    "        self.n_heads = n_heads\n",
    "        self.device = device\n",
    "\n",
    "        assert d % n_heads == 0, f\"Can't divide dimension {d} into {n_heads} heads\"\n",
    "\n",
    "        d_head = int(d / n_heads)\n",
    "        self.q_mappings = [nn.Linear(d_head, d_head) for _ in range(self.n_heads)]\n",
    "        self.k_mappings = [nn.Linear(d_head, d_head) for _ in range(self.n_heads)]\n",
    "        self.v_mappings = [nn.Linear(d_head, d_head) for _ in range(self.n_heads)]\n",
    "        self.d_head = d_head\n",
    "        self.softmax = nn.Softmax(dim=-1)\n",
    "\n",
    "    def forward(self, sequences):\n",
    "        # Sequences has shape (N, seq_length, token_dim)\n",
    "        # We go into shape    (N, seq_length, n_heads, token_dim / n_heads)\n",
    "        # And come back to    (N, seq_length, item_dim)  (through concatenation)\n",
    "        result = []\n",
    "        for sequence in sequences:\n",
    "            seq_result = []\n",
    "            for head in range(self.n_heads):\n",
    "                q_mapping = self.q_mappings[head].to(device)\n",
    "                k_mapping = self.k_mappings[head].to(device)\n",
    "                v_mapping = self.v_mappings[head].to(device)\n",
    "\n",
    "                seq = sequence[:, head * self.d_head: (head + 1) * self.d_head]\n",
    "                q, k, v = q_mapping(seq), k_mapping(seq), v_mapping(seq)\n",
    "\n",
    "                attention = self.softmax(q @ k.T / (self.d_head ** 0.5))\n",
    "                seq_result.append(attention @ v)\n",
    "            result.append(torch.hstack(seq_result))\n",
    "        return torch.cat([torch.unsqueeze(r, dim=0) for r in result])"
   ]
  },
  {
   "cell_type": "code",
   "execution_count": 46,
   "id": "731678c7",
   "metadata": {},
   "outputs": [],
   "source": [
    "class ViT_Scratch(nn.Module):\n",
    "    def __init__(self, input_shape, n_patches=8, hidden_d=8, n_heads=2, out_d=10, device='cpu'):\n",
    "        # Super constructor\n",
    "        super(ViT_Scratch, self).__init__()\n",
    "\n",
    "        # Input and patches sizes\n",
    "        self.input_shape = input_shape\n",
    "        self.n_patches = n_patches\n",
    "        self.n_heads = n_heads\n",
    "        assert input_shape[1] % n_patches == 0, \"Input shape not entirely divisible by number of patches\"\n",
    "        assert input_shape[2] % n_patches == 0, \"Input shape not entirely divisible by number of patches\"\n",
    "        self.patch_size = (input_shape[1] / n_patches, input_shape[2] / n_patches)\n",
    "        self.hidden_d = hidden_d\n",
    "        self.device = device\n",
    "\n",
    "        # 1) Linear mapper\n",
    "        self.input_d = int(input_shape[0] * self.patch_size[0] * self.patch_size[1])\n",
    "        self.linear_mapper = nn.Linear(self.input_d, self.hidden_d)\n",
    "\n",
    "        # 2) Classification token\n",
    "        self.class_token = nn.Parameter(torch.rand(1, self.hidden_d))\n",
    "\n",
    "        # 3) Positional embedding\n",
    "        # (In forward method)\n",
    "\n",
    "        # 4a) Layer normalization 1\n",
    "        self.ln1 = nn.LayerNorm((self.n_patches ** 2 + 1, self.hidden_d))\n",
    "\n",
    "        # 4b) Multi-head Self Attention (MSA) and classification token\n",
    "        self.msa = MyMSA(self.hidden_d, n_heads, self.device)\n",
    "\n",
    "        # 5a) Layer normalization 2\n",
    "        self.ln2 = nn.LayerNorm((self.n_patches ** 2 + 1, self.hidden_d))\n",
    "\n",
    "        # 5b) Encoder MLP\n",
    "        self.enc_mlp = nn.Sequential(\n",
    "            nn.Linear(self.hidden_d, self.hidden_d),\n",
    "            nn.ReLU()\n",
    "        )\n",
    "\n",
    "        # 6) Classification MLP\n",
    "        self.mlp = nn.Sequential(\n",
    "            nn.Linear(self.hidden_d, out_d),\n",
    "            nn.Softmax(dim=-1)\n",
    "        )\n",
    "\n",
    "    def forward(self, images):\n",
    "        # Dividing images into patches\n",
    "        n, c, w, h = images.shape\n",
    "        patches = images.reshape(n, self.n_patches ** 2, self.input_d)\n",
    "\n",
    "        # Running linear layer for tokenization\n",
    "        tokens = self.linear_mapper(patches)\n",
    "\n",
    "        # Adding classification token to the tokens\n",
    "        tokens = torch.stack([torch.vstack((self.class_token, tokens[i])) for i in range(len(tokens))])\n",
    "\n",
    "        # Adding positional embedding\n",
    "        tokens += get_positional_embeddings(self.n_patches ** 2 + 1, self.hidden_d).repeat(n, 1, 1).to(self.device)\n",
    "\n",
    "        # TRANSFORMER ENCODER BEGINS ###################################\n",
    "        # NOTICE: MULTIPLE ENCODER BLOCKS CAN BE STACKED TOGETHER ######\n",
    "        # Running Layer Normalization, MSA and residual connection\n",
    "        out = tokens + self.msa(self.ln1(tokens))\n",
    "\n",
    "        # Running Layer Normalization, MLP and residual connection\n",
    "        out = out + self.enc_mlp(self.ln2(out))\n",
    "        # TRANSFORMER ENCODER ENDS   ###################################\n",
    "\n",
    "        # Getting the classification token only\n",
    "        out = out[:, 0]\n",
    "\n",
    "        return self.mlp(out)"
   ]
  },
  {
   "cell_type": "code",
   "execution_count": 47,
   "id": "8e7162b2",
   "metadata": {},
   "outputs": [],
   "source": [
    "import gc\n",
    "gc.collect()\n",
    "torch.cuda.empty_cache()"
   ]
  },
  {
   "cell_type": "code",
   "execution_count": null,
   "id": "7495f4d8",
   "metadata": {
    "scrolled": true
   },
   "outputs": [
    {
     "name": "stdout",
     "output_type": "stream",
     "text": [
      "cuda:0\n",
      "Epoch 0/49\n",
      "----------\n"
     ]
    },
    {
     "name": "stderr",
     "output_type": "stream",
     "text": [
      " 40%|████      | 675/1672 [1:02:10<1:39:21,  5.98s/it]"
     ]
    }
   ],
   "source": [
    "MODEL = 'resnet'\n",
    "# MODEL = 'vit_scratch'\n",
    "# MODEL = 'resnet'\n",
    "\n",
    "device = torch.device('cuda:0' if torch.cuda.is_available() else 'cpu')\n",
    "print(device)\n",
    "\n",
    "if MODEL == 'resnet':\n",
    "    model = models.resnet50(pretrained=False)\n",
    "    num_features = model.fc.in_features\n",
    "    model.fc = nn.Linear(num_features, len(all_birds))\n",
    "    model.conv1 = nn.Conv2d(1, 64, kernel_size=7, stride=2, padding=3, bias=False)\n",
    "    model = model.to(device)\n",
    "    \n",
    "    batch_size = 64\n",
    "    \n",
    "if MODEL == 'vit':\n",
    "    efficient_transformer = Linformer(\n",
    "        dim=216,\n",
    "        seq_len=27649, # 128 * 216 + 1 cls token\n",
    "        depth=6,\n",
    "        heads=4,\n",
    "        k=64\n",
    "        )\n",
    "    \n",
    "    vit_model = ViT(\n",
    "        image_size=216,\n",
    "        patch_size=1,\n",
    "        num_classes=len(training_seq),\n",
    "        dim=216,\n",
    "        transformer=efficient_transformer,\n",
    "        channels=1\n",
    "        ).to(device)\n",
    "    \n",
    "    model = vit_model    \n",
    "    batch_size = 4\n",
    "\n",
    "if MODEL == 'vit_scratch':\n",
    "    channel = 1\n",
    "    height = 128\n",
    "    width = 216\n",
    "    model = ViT_Scratch((channel, height, width), n_patches=8, hidden_d=1024, n_heads=2, out_d=len(training_seq), device=device)    \n",
    "    batch_size = 128\n",
    "    model = model.to(device)\n",
    "    \n",
    "#     LR = 0.001\n",
    "#     GAMMA = 0.7 #for learning rate scheduler \n",
    "#     scheduler = StepLR(optimizer, step_size=1, gamma=GAMMA)\n",
    "\n",
    "num_epochs = 50\n",
    "criterion = nn.CrossEntropyLoss()\n",
    "optimizer = optim.Adam(model.parameters(), lr=0.001)\n",
    "#exp_lr_scheduler = lr_scheduler.StepLR(optimizer, step_size=7, gamma=1)\n",
    "\n",
    "#model.load_state_dict(torch.load('./last_model_parameters.pt'))\n",
    "best_model = train_model(model, criterion, optimizer, num_epochs, batch_size, training_seq)"
   ]
  },
  {
   "cell_type": "code",
   "execution_count": null,
   "id": "67815ea5",
   "metadata": {},
   "outputs": [],
   "source": [
    "### torch.save(model.state_dict(), './best_model_parameters.pt')\n",
    "\n",
    "#model.load_state_dict(torch.load('./best_model_parameters.pt'))\n",
    "model.load_state_dict(torch.load('./last_model_parameters.pt'))"
   ]
  },
  {
   "cell_type": "code",
   "execution_count": null,
   "id": "c499af63",
   "metadata": {},
   "outputs": [],
   "source": [
    "Test_Audio_DIR = './test_soundscapes/'\n",
    "file_list = [f.split('.')[0] for f in sorted(os.listdir(Test_Audio_DIR))]\n",
    "\n",
    "print('Number of test soundscapes', len(file_list))"
   ]
  },
  {
   "cell_type": "code",
   "execution_count": null,
   "id": "8a686919",
   "metadata": {},
   "outputs": [],
   "source": [
    "pred = {'row_id': [], 'target': []}\n",
    "threshold = 0.3\n",
    "model.eval() \n",
    "\n",
    "for file in file_list:\n",
    "    test_audio_file_path = Test_Audio_DIR + file + '.ogg'\n",
    "    \n",
    "    chunk_duration = 5 #5sec chunk\n",
    "    duration = librosa.get_duration(filename=test_audio_file_path)\n",
    "    num_spectogram = round(duration/chunk_duration)\n",
    "    \n",
    "    chunks = [[] for i in range(num_spectogram)]\n",
    "\n",
    "    melspec_test = torch.tensor(np.array(get_spectograms(test_audio_file_path))).view(-1,1,128,216)\n",
    "    #X_test = torch.stack(melspec_test).to(device)\n",
    "    X_test = (melspec_test).to(device)\n",
    "    #print(X_test.shape)\n",
    "\n",
    "    outputs = model(X_test.float())\n",
    "    #print(outputs.shape)\n",
    "    outputs_test = torch.sigmoid(outputs)\n",
    "    #print(outputs_test.shape)\n",
    "    #print(scored_birds)\n",
    "\n",
    "    for idx, i in enumerate(range(len(chunks))):\n",
    "        chunk_end_time = (i + 1) * 5\n",
    "        for bird in scored_birds:\n",
    "            try:\n",
    "                score = outputs_test[idx][bird2idx[bird]]\n",
    "            except IndexError:\n",
    "                score = 0\n",
    "            \n",
    "            row_id = file + '_' + bird + '_' + str(chunk_end_time)\n",
    "            #print('score is ', score)\n",
    "            pred['row_id'].append(row_id)\n",
    "            pred['target'].append(True if score > threshold else False)"
   ]
  },
  {
   "cell_type": "code",
   "execution_count": null,
   "id": "15ac417d",
   "metadata": {},
   "outputs": [],
   "source": [
    "results = pd.DataFrame(pred, columns = ['row_id', 'target'])\n",
    "print(results)\n",
    "\n",
    "results.to_csv(\"submission.csv\", index=False)"
   ]
  },
  {
   "cell_type": "code",
   "execution_count": null,
   "id": "59e290e4",
   "metadata": {},
   "outputs": [],
   "source": []
  }
 ],
 "metadata": {
  "kernelspec": {
   "display_name": "Python 3 (ipykernel)",
   "language": "python",
   "name": "python3"
  },
  "language_info": {
   "codemirror_mode": {
    "name": "ipython",
    "version": 3
   },
   "file_extension": ".py",
   "mimetype": "text/x-python",
   "name": "python",
   "nbconvert_exporter": "python",
   "pygments_lexer": "ipython3",
   "version": "3.9.7"
  }
 },
 "nbformat": 4,
 "nbformat_minor": 5
}
