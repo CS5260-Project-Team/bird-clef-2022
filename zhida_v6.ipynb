{
 "cells": [
  {
   "cell_type": "markdown",
   "id": "a9da5ffe",
   "metadata": {},
   "source": [
    "### Import Libraries"
   ]
  },
  {
   "cell_type": "code",
   "execution_count": 1,
   "id": "61846c50",
   "metadata": {},
   "outputs": [],
   "source": [
    "# Import libraries\n",
    "import os \n",
    "import sys\n",
    "import numpy as np\n",
    "import pandas as pd\n",
    "import copy\n",
    "import torch\n",
    "import torch.nn as nn\n",
    "import torch.optim as optim\n",
    "import torch.nn.functional as F\n",
    "from torch.utils.data import Dataset, DataLoader, random_split\n",
    "from torchvision import datasets, models, transforms\n",
    "import json\n",
    "from sklearn.metrics import f1_score\n",
    "import matplotlib.pyplot as plt\n",
    "import librosa\n",
    "import librosa.display\n",
    "from IPython.display import Image\n",
    "import IPython.display as ipd\n",
    "from tqdm import tqdm, tqdm_pandas\n",
    "import random\n",
    "import gc\n",
    "import time\n",
    "import pickle"
   ]
  },
  {
   "cell_type": "markdown",
   "id": "a639c526",
   "metadata": {},
   "source": [
    "### Read in data"
   ]
  },
  {
   "cell_type": "code",
   "execution_count": 2,
   "id": "8c4ce974",
   "metadata": {},
   "outputs": [],
   "source": [
    "Train_pt_DIR = './train_pt'\n",
    "Train_Metadata_DIR = './train_metadata.csv'\n",
    "Scored_Bird_DIR ='./scored_birds.json'\n",
    "Train_DIR = './train_audio/'\n",
    "Audio_Rating_Dir = \"./bird_audio_rating_mapping.pkl\"\n",
    "\n",
    "#read in metadata as df\n",
    "train_df = pd.read_csv(Train_Metadata_DIR)\n",
    "train_df.head()\n",
    "train_df['dir'] = Train_DIR+train_df['filename']\n",
    "#print(train_df['dir'])\n",
    "tqdm.pandas()\n",
    "#train_df['spectogram'] = train_df.progress_apply(lambda x: process_audio_to_spectogram(x['dir']),axis=1)"
   ]
  },
  {
   "cell_type": "code",
   "execution_count": 3,
   "id": "08321fc2",
   "metadata": {},
   "outputs": [
    {
     "data": {
      "text/plain": [
       "\"\\nnum_audio_files = train_df.shape[0]\\n\\nspectograms_list = []\\nfor i in tqdm(range(100)):\\n    current_bird = train_df.primary_label.loc[i]\\n    process_get_audio_chunks_images(train_df['dir'].iloc[i])\\n\""
      ]
     },
     "execution_count": 3,
     "metadata": {},
     "output_type": "execute_result"
    }
   ],
   "source": [
    "'''\n",
    "num_audio_files = train_df.shape[0]\n",
    "\n",
    "spectograms_list = []\n",
    "for i in tqdm(range(100)):\n",
    "    current_bird = train_df.primary_label.loc[i]\n",
    "    process_get_audio_chunks_images(train_df['dir'].iloc[i])\n",
    "'''"
   ]
  },
  {
   "cell_type": "code",
   "execution_count": 4,
   "id": "863d51f8",
   "metadata": {},
   "outputs": [],
   "source": [
    "def get_spectograms_from_file(idx):\n",
    "    #get all the corresponding spectogram in np format\n",
    "    bird = idx2bird[idx]\n",
    "    pt_filepath = Train_pt_DIR+\"/\"+bird+\".pt\"\n",
    "    x_train = torch.load(pt_filepath).view(-1,1,128,216)\n",
    "    num_training_samples = x_train.shape[0]\n",
    "    #y_train is one hot encoded vector per training sample\n",
    "    y_train = torch.tensor(np.array([0]*len(all_birds))).view(1,-1)\n",
    "    y_train[0,idx] = 1\n",
    "    y_train = torch.cat([y_train]*num_training_samples)\n",
    "\n",
    "    return x_train, y_train"
   ]
  },
  {
   "cell_type": "code",
   "execution_count": 5,
   "id": "311c201d",
   "metadata": {},
   "outputs": [],
   "source": [
    "def get_n_training_spectograms_from_file(idx, n_spectograms, TRAINING_VAL_SPLIT):\n",
    "    #get n random spectogram (np format) of selected bird\n",
    "    bird = idx2bird[idx]\n",
    "    pt_filepath = Train_pt_DIR+\"/\"+bird+\".pt\"\n",
    "    x_train = torch.load(pt_filepath).view(-1,1,128,216) # to convert to N,C, H, W format\n",
    "    \n",
    "    train_index = int(TRAINING_VAL_SPLIT*len(x_train)) #80:20 split for training and validation\n",
    "    \n",
    "    indices = torch.randint(0,train_index,(n_spectograms,)) #only sample from training pool\n",
    "    selected_X_train = x_train[indices]\n",
    "    \n",
    "    y_train = torch.tensor(np.array([0]*len(all_birds))).view(1,-1)\n",
    "    y_train[0,idx] = 1\n",
    "    selected_y_train = torch.cat([y_train]*n_spectograms)\n",
    "    \n",
    "    return selected_X_train, selected_y_train"
   ]
  },
  {
   "cell_type": "code",
   "execution_count": 6,
   "id": "a068e157",
   "metadata": {},
   "outputs": [
    {
     "ename": "FileNotFoundError",
     "evalue": "[Errno 2] No such file or directory: './train_pt/hudgod.pt'",
     "output_type": "error",
     "traceback": [
      "\u001b[1;31m---------------------------------------------------------------------------\u001b[0m",
      "\u001b[1;31mFileNotFoundError\u001b[0m                         Traceback (most recent call last)",
      "\u001b[1;32m~\\AppData\\Local\\Temp/ipykernel_18184/3782068452.py\u001b[0m in \u001b[0;36m<module>\u001b[1;34m\u001b[0m\n\u001b[1;32m----> 1\u001b[1;33m \u001b[0ma\u001b[0m \u001b[1;33m=\u001b[0m \u001b[0mtorch\u001b[0m\u001b[1;33m.\u001b[0m\u001b[0mload\u001b[0m\u001b[1;33m(\u001b[0m\u001b[1;34m'./train_pt/hudgod.pt'\u001b[0m\u001b[1;33m)\u001b[0m\u001b[1;33m\u001b[0m\u001b[1;33m\u001b[0m\u001b[0m\n\u001b[0m\u001b[0;32m      2\u001b[0m \u001b[0mprint\u001b[0m\u001b[1;33m(\u001b[0m\u001b[0ma\u001b[0m\u001b[1;33m.\u001b[0m\u001b[0mshape\u001b[0m\u001b[1;33m)\u001b[0m\u001b[1;33m\u001b[0m\u001b[1;33m\u001b[0m\u001b[0m\n\u001b[0;32m      3\u001b[0m \u001b[0mb\u001b[0m \u001b[1;33m=\u001b[0m \u001b[0mtorch\u001b[0m\u001b[1;33m.\u001b[0m\u001b[0mload\u001b[0m\u001b[1;33m(\u001b[0m\u001b[1;34m'./train_pt/redpha1.pt'\u001b[0m\u001b[1;33m)\u001b[0m\u001b[1;33m\u001b[0m\u001b[1;33m\u001b[0m\u001b[0m\n\u001b[0;32m      4\u001b[0m \u001b[0mprint\u001b[0m\u001b[1;33m(\u001b[0m\u001b[0mb\u001b[0m\u001b[1;33m.\u001b[0m\u001b[0mshape\u001b[0m\u001b[1;33m)\u001b[0m\u001b[1;33m\u001b[0m\u001b[1;33m\u001b[0m\u001b[0m\n",
      "\u001b[1;32m~\\anaconda3\\lib\\site-packages\\torch\\serialization.py\u001b[0m in \u001b[0;36mload\u001b[1;34m(f, map_location, pickle_module, **pickle_load_args)\u001b[0m\n\u001b[0;32m    697\u001b[0m         \u001b[0mpickle_load_args\u001b[0m\u001b[1;33m[\u001b[0m\u001b[1;34m'encoding'\u001b[0m\u001b[1;33m]\u001b[0m \u001b[1;33m=\u001b[0m \u001b[1;34m'utf-8'\u001b[0m\u001b[1;33m\u001b[0m\u001b[1;33m\u001b[0m\u001b[0m\n\u001b[0;32m    698\u001b[0m \u001b[1;33m\u001b[0m\u001b[0m\n\u001b[1;32m--> 699\u001b[1;33m     \u001b[1;32mwith\u001b[0m \u001b[0m_open_file_like\u001b[0m\u001b[1;33m(\u001b[0m\u001b[0mf\u001b[0m\u001b[1;33m,\u001b[0m \u001b[1;34m'rb'\u001b[0m\u001b[1;33m)\u001b[0m \u001b[1;32mas\u001b[0m \u001b[0mopened_file\u001b[0m\u001b[1;33m:\u001b[0m\u001b[1;33m\u001b[0m\u001b[1;33m\u001b[0m\u001b[0m\n\u001b[0m\u001b[0;32m    700\u001b[0m         \u001b[1;32mif\u001b[0m \u001b[0m_is_zipfile\u001b[0m\u001b[1;33m(\u001b[0m\u001b[0mopened_file\u001b[0m\u001b[1;33m)\u001b[0m\u001b[1;33m:\u001b[0m\u001b[1;33m\u001b[0m\u001b[1;33m\u001b[0m\u001b[0m\n\u001b[0;32m    701\u001b[0m             \u001b[1;31m# The zipfile reader is going to advance the current file position.\u001b[0m\u001b[1;33m\u001b[0m\u001b[1;33m\u001b[0m\u001b[0m\n",
      "\u001b[1;32m~\\anaconda3\\lib\\site-packages\\torch\\serialization.py\u001b[0m in \u001b[0;36m_open_file_like\u001b[1;34m(name_or_buffer, mode)\u001b[0m\n\u001b[0;32m    229\u001b[0m \u001b[1;32mdef\u001b[0m \u001b[0m_open_file_like\u001b[0m\u001b[1;33m(\u001b[0m\u001b[0mname_or_buffer\u001b[0m\u001b[1;33m,\u001b[0m \u001b[0mmode\u001b[0m\u001b[1;33m)\u001b[0m\u001b[1;33m:\u001b[0m\u001b[1;33m\u001b[0m\u001b[1;33m\u001b[0m\u001b[0m\n\u001b[0;32m    230\u001b[0m     \u001b[1;32mif\u001b[0m \u001b[0m_is_path\u001b[0m\u001b[1;33m(\u001b[0m\u001b[0mname_or_buffer\u001b[0m\u001b[1;33m)\u001b[0m\u001b[1;33m:\u001b[0m\u001b[1;33m\u001b[0m\u001b[1;33m\u001b[0m\u001b[0m\n\u001b[1;32m--> 231\u001b[1;33m         \u001b[1;32mreturn\u001b[0m \u001b[0m_open_file\u001b[0m\u001b[1;33m(\u001b[0m\u001b[0mname_or_buffer\u001b[0m\u001b[1;33m,\u001b[0m \u001b[0mmode\u001b[0m\u001b[1;33m)\u001b[0m\u001b[1;33m\u001b[0m\u001b[1;33m\u001b[0m\u001b[0m\n\u001b[0m\u001b[0;32m    232\u001b[0m     \u001b[1;32melse\u001b[0m\u001b[1;33m:\u001b[0m\u001b[1;33m\u001b[0m\u001b[1;33m\u001b[0m\u001b[0m\n\u001b[0;32m    233\u001b[0m         \u001b[1;32mif\u001b[0m \u001b[1;34m'w'\u001b[0m \u001b[1;32min\u001b[0m \u001b[0mmode\u001b[0m\u001b[1;33m:\u001b[0m\u001b[1;33m\u001b[0m\u001b[1;33m\u001b[0m\u001b[0m\n",
      "\u001b[1;32m~\\anaconda3\\lib\\site-packages\\torch\\serialization.py\u001b[0m in \u001b[0;36m__init__\u001b[1;34m(self, name, mode)\u001b[0m\n\u001b[0;32m    210\u001b[0m \u001b[1;32mclass\u001b[0m \u001b[0m_open_file\u001b[0m\u001b[1;33m(\u001b[0m\u001b[0m_opener\u001b[0m\u001b[1;33m)\u001b[0m\u001b[1;33m:\u001b[0m\u001b[1;33m\u001b[0m\u001b[1;33m\u001b[0m\u001b[0m\n\u001b[0;32m    211\u001b[0m     \u001b[1;32mdef\u001b[0m \u001b[0m__init__\u001b[0m\u001b[1;33m(\u001b[0m\u001b[0mself\u001b[0m\u001b[1;33m,\u001b[0m \u001b[0mname\u001b[0m\u001b[1;33m,\u001b[0m \u001b[0mmode\u001b[0m\u001b[1;33m)\u001b[0m\u001b[1;33m:\u001b[0m\u001b[1;33m\u001b[0m\u001b[1;33m\u001b[0m\u001b[0m\n\u001b[1;32m--> 212\u001b[1;33m         \u001b[0msuper\u001b[0m\u001b[1;33m(\u001b[0m\u001b[0m_open_file\u001b[0m\u001b[1;33m,\u001b[0m \u001b[0mself\u001b[0m\u001b[1;33m)\u001b[0m\u001b[1;33m.\u001b[0m\u001b[0m__init__\u001b[0m\u001b[1;33m(\u001b[0m\u001b[0mopen\u001b[0m\u001b[1;33m(\u001b[0m\u001b[0mname\u001b[0m\u001b[1;33m,\u001b[0m \u001b[0mmode\u001b[0m\u001b[1;33m)\u001b[0m\u001b[1;33m)\u001b[0m\u001b[1;33m\u001b[0m\u001b[1;33m\u001b[0m\u001b[0m\n\u001b[0m\u001b[0;32m    213\u001b[0m \u001b[1;33m\u001b[0m\u001b[0m\n\u001b[0;32m    214\u001b[0m     \u001b[1;32mdef\u001b[0m \u001b[0m__exit__\u001b[0m\u001b[1;33m(\u001b[0m\u001b[0mself\u001b[0m\u001b[1;33m,\u001b[0m \u001b[1;33m*\u001b[0m\u001b[0margs\u001b[0m\u001b[1;33m)\u001b[0m\u001b[1;33m:\u001b[0m\u001b[1;33m\u001b[0m\u001b[1;33m\u001b[0m\u001b[0m\n",
      "\u001b[1;31mFileNotFoundError\u001b[0m: [Errno 2] No such file or directory: './train_pt/hudgod.pt'"
     ]
    }
   ],
   "source": [
    "a = torch.load('./train_pt/hudgod.pt')\n",
    "print(a.shape)\n",
    "b = torch.load('./train_pt/redpha1.pt')\n",
    "print(b.shape)"
   ]
  },
  {
   "cell_type": "markdown",
   "id": "0fae65b4",
   "metadata": {},
   "source": [
    "### Noise Reduction"
   ]
  },
  {
   "cell_type": "code",
   "execution_count": 7,
   "id": "b1ffbbae",
   "metadata": {},
   "outputs": [],
   "source": [
    "def noise_reduction(y, sr, plot=True, th=0.3):\n",
    "    from scipy.fft import fft, fftfreq, ifft\n",
    "    \n",
    "    SAMPLE_RATE = 1\n",
    "    DURATION = len(y) / SAMPLE_RATE\n",
    "    N = int(SAMPLE_RATE * DURATION)\n",
    "\n",
    "    yf = fft(y)\n",
    "    xf = fftfreq(N, 1 / SAMPLE_RATE)\n",
    "    \n",
    "    if plot:\n",
    "        fig, axes = plt.subplots(1, 2, figsize=(24, 8))\n",
    "        axes[0].plot(np.arange(len(y)), y)\n",
    "        axes[0].set_title('Before Time-Domain')\n",
    "        axes[1].plot(xf, np.abs(yf))\n",
    "        axes[1].set_title('Before Frequency-Domain')\n",
    "        plt.show()\n",
    "    \n",
    "    # Filtering Low-Pass\n",
    "    new_yf = yf.copy()\n",
    "    middle = len(y) / 2\n",
    "    new_yf[int(middle - len(y) * th):int(middle + len(y) * th)] = 0\n",
    "    new_y = ifft(new_yf)\n",
    "    new_y = new_y.real\n",
    "    \n",
    "    if plot:\n",
    "        fig, axes = plt.subplots(1, 2, figsize=(24, 8))\n",
    "        axes[0].plot(np.arange(len(y)), new_y)\n",
    "        axes[0].set_title('After Time-Domain')\n",
    "        axes[1].plot(xf, np.abs(new_yf))\n",
    "        axes[1].set_title('After Frequency-Domain')\n",
    "        plt.show()\n",
    "\n",
    "    return new_y, sr"
   ]
  },
  {
   "cell_type": "markdown",
   "id": "cb6cb58e",
   "metadata": {},
   "source": [
    "### EDA"
   ]
  },
  {
   "cell_type": "code",
   "execution_count": 8,
   "id": "a5f75b99",
   "metadata": {},
   "outputs": [
    {
     "name": "stdout",
     "output_type": "stream",
     "text": [
      "Total number of birds 152\n"
     ]
    }
   ],
   "source": [
    "all_birds = list(train_df.primary_label.dropna().unique())\n",
    "print('Total number of birds',len(all_birds))"
   ]
  },
  {
   "cell_type": "code",
   "execution_count": 9,
   "id": "cc1b1496",
   "metadata": {},
   "outputs": [],
   "source": [
    "#for mapping of bird (str) to idx (int)\n",
    "bird2idx = {}\n",
    "for i, bird in enumerate(all_birds):\n",
    "    bird2idx[bird] = i\n",
    "    \n",
    "idx2bird = {}\n",
    "for _, (k, v) in enumerate(bird2idx.items()): \n",
    "    idx2bird[v] = k "
   ]
  },
  {
   "cell_type": "code",
   "execution_count": 10,
   "id": "2b9c7216",
   "metadata": {},
   "outputs": [
    {
     "data": {
      "text/plain": [
       "151"
      ]
     },
     "execution_count": 10,
     "metadata": {},
     "output_type": "execute_result"
    }
   ],
   "source": [
    "idx2bird[151]\n",
    "bird2idx['zebdov']"
   ]
  },
  {
   "cell_type": "code",
   "execution_count": 11,
   "id": "b4e9738f",
   "metadata": {},
   "outputs": [
    {
     "name": "stdout",
     "output_type": "stream",
     "text": [
      "Total number of birds 152\n",
      "Scored birds ['akiapo', 'aniani', 'apapan', 'barpet', 'crehon', 'elepai', 'ercfra', 'hawama', 'hawcre', 'hawgoo', 'hawhaw', 'hawpet1', 'houfin', 'iiwi', 'jabwar', 'maupar', 'omao', 'puaioh', 'skylar', 'warwhe1', 'yefcan']\n",
      "Number of scored birds training files \n",
      " akiapo      14\n",
      "aniani      12\n",
      "apapan      47\n",
      "barpet      15\n",
      "crehon       2\n",
      "elepai      14\n",
      "ercfra       6\n",
      "hawama      21\n",
      "hawcre      20\n",
      "hawgoo       9\n",
      "hawhaw       3\n",
      "hawpet1      3\n",
      "houfin     322\n",
      "iiwi        37\n",
      "jabwar      78\n",
      "maupar       1\n",
      "omao        21\n",
      "puaioh       3\n",
      "skylar     500\n",
      "warwhe1     71\n",
      "yefcan      67\n",
      "Name: primary_label, dtype: int64\n",
      "\n",
      "Number of training files per bird\n"
     ]
    },
    {
     "data": {
      "text/plain": [
       "<AxesSubplot:>"
      ]
     },
     "execution_count": 11,
     "metadata": {},
     "output_type": "execute_result"
    },
    {
     "data": {
      "image/png": "[encoded data removed]",
      "text/plain": [
       "<Figure size 432x288 with 1 Axes>"
      ]
     },
     "metadata": {
      "needs_background": "light"
     },
     "output_type": "display_data"
    }
   ],
   "source": [
    "all_birds = list(train_df.primary_label.dropna().unique())\n",
    "print('Total number of birds',len(all_birds))\n",
    "\n",
    "#load scored birds \n",
    "with open(Scored_Bird_DIR) as sbfile:\n",
    "    scored_birds = json.load(sbfile)\n",
    "print('Scored birds',scored_birds)\n",
    "\n",
    "bird_training_sample = train_df.primary_label.value_counts()\n",
    "\n",
    "print('Number of scored birds training files \\n',bird_training_sample.loc[scored_birds])\n",
    "print()\n",
    "print('Number of training files per bird')\n",
    "bird_training_sample.plot(kind='barh')\n"
   ]
  },
  {
   "cell_type": "code",
   "execution_count": 12,
   "id": "dab7b538",
   "metadata": {},
   "outputs": [
    {
     "name": "stderr",
     "output_type": "stream",
     "text": [
      "  0%|          | 0/152 [00:00<?, ?it/s]\n"
     ]
    },
    {
     "ename": "FileNotFoundError",
     "evalue": "[Errno 2] No such file or directory: './train_pt/afrsil1.pt'",
     "output_type": "error",
     "traceback": [
      "\u001b[1;31m---------------------------------------------------------------------------\u001b[0m",
      "\u001b[1;31mFileNotFoundError\u001b[0m                         Traceback (most recent call last)",
      "\u001b[1;32m~\\AppData\\Local\\Temp/ipykernel_18184/1634106935.py\u001b[0m in \u001b[0;36m<module>\u001b[1;34m\u001b[0m\n\u001b[0;32m      2\u001b[0m \u001b[0mnum_training_data\u001b[0m \u001b[1;33m=\u001b[0m \u001b[1;33m{\u001b[0m\u001b[1;33m}\u001b[0m\u001b[1;33m\u001b[0m\u001b[1;33m\u001b[0m\u001b[0m\n\u001b[0;32m      3\u001b[0m \u001b[1;32mfor\u001b[0m \u001b[0mbird\u001b[0m \u001b[1;32min\u001b[0m \u001b[0mtqdm\u001b[0m\u001b[1;33m(\u001b[0m\u001b[0mall_birds\u001b[0m\u001b[1;33m)\u001b[0m\u001b[1;33m:\u001b[0m\u001b[1;33m\u001b[0m\u001b[1;33m\u001b[0m\u001b[0m\n\u001b[1;32m----> 4\u001b[1;33m     \u001b[0m_\u001b[0m\u001b[1;33m,\u001b[0m \u001b[0my_train_bird\u001b[0m \u001b[1;33m=\u001b[0m \u001b[0mget_spectograms_from_file\u001b[0m\u001b[1;33m(\u001b[0m\u001b[0mbird2idx\u001b[0m\u001b[1;33m[\u001b[0m\u001b[0mbird\u001b[0m\u001b[1;33m]\u001b[0m\u001b[1;33m)\u001b[0m\u001b[1;33m\u001b[0m\u001b[1;33m\u001b[0m\u001b[0m\n\u001b[0m\u001b[0;32m      5\u001b[0m     \u001b[0mnum_training_data\u001b[0m\u001b[1;33m[\u001b[0m\u001b[0mbird\u001b[0m\u001b[1;33m]\u001b[0m \u001b[1;33m=\u001b[0m \u001b[0mlen\u001b[0m\u001b[1;33m(\u001b[0m\u001b[0my_train_bird\u001b[0m\u001b[1;33m)\u001b[0m\u001b[1;33m\u001b[0m\u001b[1;33m\u001b[0m\u001b[0m\n\u001b[0;32m      6\u001b[0m \u001b[0msorted_training_data\u001b[0m \u001b[1;33m=\u001b[0m \u001b[0msorted\u001b[0m\u001b[1;33m(\u001b[0m\u001b[0mnum_training_data\u001b[0m\u001b[1;33m.\u001b[0m\u001b[0mitems\u001b[0m\u001b[1;33m(\u001b[0m\u001b[1;33m)\u001b[0m\u001b[1;33m,\u001b[0m \u001b[0mkey\u001b[0m \u001b[1;33m=\u001b[0m \u001b[1;32mlambda\u001b[0m \u001b[0mkv\u001b[0m\u001b[1;33m:\u001b[0m \u001b[0mkv\u001b[0m\u001b[1;33m[\u001b[0m\u001b[1;36m1\u001b[0m\u001b[1;33m]\u001b[0m\u001b[1;33m)\u001b[0m\u001b[1;33m\u001b[0m\u001b[1;33m\u001b[0m\u001b[0m\n",
      "\u001b[1;32m~\\AppData\\Local\\Temp/ipykernel_18184/582581834.py\u001b[0m in \u001b[0;36mget_spectograms_from_file\u001b[1;34m(idx)\u001b[0m\n\u001b[0;32m      3\u001b[0m     \u001b[0mbird\u001b[0m \u001b[1;33m=\u001b[0m \u001b[0midx2bird\u001b[0m\u001b[1;33m[\u001b[0m\u001b[0midx\u001b[0m\u001b[1;33m]\u001b[0m\u001b[1;33m\u001b[0m\u001b[1;33m\u001b[0m\u001b[0m\n\u001b[0;32m      4\u001b[0m     \u001b[0mpt_filepath\u001b[0m \u001b[1;33m=\u001b[0m \u001b[0mTrain_pt_DIR\u001b[0m\u001b[1;33m+\u001b[0m\u001b[1;34m\"/\"\u001b[0m\u001b[1;33m+\u001b[0m\u001b[0mbird\u001b[0m\u001b[1;33m+\u001b[0m\u001b[1;34m\".pt\"\u001b[0m\u001b[1;33m\u001b[0m\u001b[1;33m\u001b[0m\u001b[0m\n\u001b[1;32m----> 5\u001b[1;33m     \u001b[0mx_train\u001b[0m \u001b[1;33m=\u001b[0m \u001b[0mtorch\u001b[0m\u001b[1;33m.\u001b[0m\u001b[0mload\u001b[0m\u001b[1;33m(\u001b[0m\u001b[0mpt_filepath\u001b[0m\u001b[1;33m)\u001b[0m\u001b[1;33m.\u001b[0m\u001b[0mview\u001b[0m\u001b[1;33m(\u001b[0m\u001b[1;33m-\u001b[0m\u001b[1;36m1\u001b[0m\u001b[1;33m,\u001b[0m\u001b[1;36m1\u001b[0m\u001b[1;33m,\u001b[0m\u001b[1;36m128\u001b[0m\u001b[1;33m,\u001b[0m\u001b[1;36m216\u001b[0m\u001b[1;33m)\u001b[0m\u001b[1;33m\u001b[0m\u001b[1;33m\u001b[0m\u001b[0m\n\u001b[0m\u001b[0;32m      6\u001b[0m     \u001b[0mnum_training_samples\u001b[0m \u001b[1;33m=\u001b[0m \u001b[0mx_train\u001b[0m\u001b[1;33m.\u001b[0m\u001b[0mshape\u001b[0m\u001b[1;33m[\u001b[0m\u001b[1;36m0\u001b[0m\u001b[1;33m]\u001b[0m\u001b[1;33m\u001b[0m\u001b[1;33m\u001b[0m\u001b[0m\n\u001b[0;32m      7\u001b[0m     \u001b[1;31m#y_train is one hot encoded vector per training sample\u001b[0m\u001b[1;33m\u001b[0m\u001b[1;33m\u001b[0m\u001b[0m\n",
      "\u001b[1;32m~\\anaconda3\\lib\\site-packages\\torch\\serialization.py\u001b[0m in \u001b[0;36mload\u001b[1;34m(f, map_location, pickle_module, **pickle_load_args)\u001b[0m\n\u001b[0;32m    697\u001b[0m         \u001b[0mpickle_load_args\u001b[0m\u001b[1;33m[\u001b[0m\u001b[1;34m'encoding'\u001b[0m\u001b[1;33m]\u001b[0m \u001b[1;33m=\u001b[0m \u001b[1;34m'utf-8'\u001b[0m\u001b[1;33m\u001b[0m\u001b[1;33m\u001b[0m\u001b[0m\n\u001b[0;32m    698\u001b[0m \u001b[1;33m\u001b[0m\u001b[0m\n\u001b[1;32m--> 699\u001b[1;33m     \u001b[1;32mwith\u001b[0m \u001b[0m_open_file_like\u001b[0m\u001b[1;33m(\u001b[0m\u001b[0mf\u001b[0m\u001b[1;33m,\u001b[0m \u001b[1;34m'rb'\u001b[0m\u001b[1;33m)\u001b[0m \u001b[1;32mas\u001b[0m \u001b[0mopened_file\u001b[0m\u001b[1;33m:\u001b[0m\u001b[1;33m\u001b[0m\u001b[1;33m\u001b[0m\u001b[0m\n\u001b[0m\u001b[0;32m    700\u001b[0m         \u001b[1;32mif\u001b[0m \u001b[0m_is_zipfile\u001b[0m\u001b[1;33m(\u001b[0m\u001b[0mopened_file\u001b[0m\u001b[1;33m)\u001b[0m\u001b[1;33m:\u001b[0m\u001b[1;33m\u001b[0m\u001b[1;33m\u001b[0m\u001b[0m\n\u001b[0;32m    701\u001b[0m             \u001b[1;31m# The zipfile reader is going to advance the current file position.\u001b[0m\u001b[1;33m\u001b[0m\u001b[1;33m\u001b[0m\u001b[0m\n",
      "\u001b[1;32m~\\anaconda3\\lib\\site-packages\\torch\\serialization.py\u001b[0m in \u001b[0;36m_open_file_like\u001b[1;34m(name_or_buffer, mode)\u001b[0m\n\u001b[0;32m    229\u001b[0m \u001b[1;32mdef\u001b[0m \u001b[0m_open_file_like\u001b[0m\u001b[1;33m(\u001b[0m\u001b[0mname_or_buffer\u001b[0m\u001b[1;33m,\u001b[0m \u001b[0mmode\u001b[0m\u001b[1;33m)\u001b[0m\u001b[1;33m:\u001b[0m\u001b[1;33m\u001b[0m\u001b[1;33m\u001b[0m\u001b[0m\n\u001b[0;32m    230\u001b[0m     \u001b[1;32mif\u001b[0m \u001b[0m_is_path\u001b[0m\u001b[1;33m(\u001b[0m\u001b[0mname_or_buffer\u001b[0m\u001b[1;33m)\u001b[0m\u001b[1;33m:\u001b[0m\u001b[1;33m\u001b[0m\u001b[1;33m\u001b[0m\u001b[0m\n\u001b[1;32m--> 231\u001b[1;33m         \u001b[1;32mreturn\u001b[0m \u001b[0m_open_file\u001b[0m\u001b[1;33m(\u001b[0m\u001b[0mname_or_buffer\u001b[0m\u001b[1;33m,\u001b[0m \u001b[0mmode\u001b[0m\u001b[1;33m)\u001b[0m\u001b[1;33m\u001b[0m\u001b[1;33m\u001b[0m\u001b[0m\n\u001b[0m\u001b[0;32m    232\u001b[0m     \u001b[1;32melse\u001b[0m\u001b[1;33m:\u001b[0m\u001b[1;33m\u001b[0m\u001b[1;33m\u001b[0m\u001b[0m\n\u001b[0;32m    233\u001b[0m         \u001b[1;32mif\u001b[0m \u001b[1;34m'w'\u001b[0m \u001b[1;32min\u001b[0m \u001b[0mmode\u001b[0m\u001b[1;33m:\u001b[0m\u001b[1;33m\u001b[0m\u001b[1;33m\u001b[0m\u001b[0m\n",
      "\u001b[1;32m~\\anaconda3\\lib\\site-packages\\torch\\serialization.py\u001b[0m in \u001b[0;36m__init__\u001b[1;34m(self, name, mode)\u001b[0m\n\u001b[0;32m    210\u001b[0m \u001b[1;32mclass\u001b[0m \u001b[0m_open_file\u001b[0m\u001b[1;33m(\u001b[0m\u001b[0m_opener\u001b[0m\u001b[1;33m)\u001b[0m\u001b[1;33m:\u001b[0m\u001b[1;33m\u001b[0m\u001b[1;33m\u001b[0m\u001b[0m\n\u001b[0;32m    211\u001b[0m     \u001b[1;32mdef\u001b[0m \u001b[0m__init__\u001b[0m\u001b[1;33m(\u001b[0m\u001b[0mself\u001b[0m\u001b[1;33m,\u001b[0m \u001b[0mname\u001b[0m\u001b[1;33m,\u001b[0m \u001b[0mmode\u001b[0m\u001b[1;33m)\u001b[0m\u001b[1;33m:\u001b[0m\u001b[1;33m\u001b[0m\u001b[1;33m\u001b[0m\u001b[0m\n\u001b[1;32m--> 212\u001b[1;33m         \u001b[0msuper\u001b[0m\u001b[1;33m(\u001b[0m\u001b[0m_open_file\u001b[0m\u001b[1;33m,\u001b[0m \u001b[0mself\u001b[0m\u001b[1;33m)\u001b[0m\u001b[1;33m.\u001b[0m\u001b[0m__init__\u001b[0m\u001b[1;33m(\u001b[0m\u001b[0mopen\u001b[0m\u001b[1;33m(\u001b[0m\u001b[0mname\u001b[0m\u001b[1;33m,\u001b[0m \u001b[0mmode\u001b[0m\u001b[1;33m)\u001b[0m\u001b[1;33m)\u001b[0m\u001b[1;33m\u001b[0m\u001b[1;33m\u001b[0m\u001b[0m\n\u001b[0m\u001b[0;32m    213\u001b[0m \u001b[1;33m\u001b[0m\u001b[0m\n\u001b[0;32m    214\u001b[0m     \u001b[1;32mdef\u001b[0m \u001b[0m__exit__\u001b[0m\u001b[1;33m(\u001b[0m\u001b[0mself\u001b[0m\u001b[1;33m,\u001b[0m \u001b[1;33m*\u001b[0m\u001b[0margs\u001b[0m\u001b[1;33m)\u001b[0m\u001b[1;33m:\u001b[0m\u001b[1;33m\u001b[0m\u001b[1;33m\u001b[0m\u001b[0m\n",
      "\u001b[1;31mFileNotFoundError\u001b[0m: [Errno 2] No such file or directory: './train_pt/afrsil1.pt'"
     ]
    }
   ],
   "source": [
    "#EDA, did the number of training data (5s) per bird\n",
    "num_training_data = {}\n",
    "for bird in tqdm(all_birds):\n",
    "    _, y_train_bird = get_spectograms_from_file(bird2idx[bird])\n",
    "    num_training_data[bird] = len(y_train_bird)\n",
    "sorted_training_data = sorted(num_training_data.items(), key = lambda kv: kv[1])\n",
    "print(sorted_training_data)\n",
    "\n",
    "scored_bird_training = {}\n",
    "for bird in tqdm(scored_birds):\n",
    "    scored_bird_training[bird] = num_training_data[bird]\n",
    "sorted_scored_bird_training_data = sorted(scored_bird_training.items(), key = lambda kv: kv[1])\n",
    "print(sorted_scored_bird_training_data)"
   ]
  },
  {
   "cell_type": "code",
   "execution_count": 13,
   "id": "0579ea31",
   "metadata": {},
   "outputs": [
    {
     "ename": "NameError",
     "evalue": "name 'sorted_training_data' is not defined",
     "output_type": "error",
     "traceback": [
      "\u001b[1;31m---------------------------------------------------------------------------\u001b[0m",
      "\u001b[1;31mNameError\u001b[0m                                 Traceback (most recent call last)",
      "\u001b[1;32m~\\AppData\\Local\\Temp/ipykernel_18184/1330438804.py\u001b[0m in \u001b[0;36m<module>\u001b[1;34m\u001b[0m\n\u001b[1;32m----> 1\u001b[1;33m \u001b[0mx\u001b[0m\u001b[1;33m,\u001b[0m \u001b[0my\u001b[0m \u001b[1;33m=\u001b[0m \u001b[0mzip\u001b[0m\u001b[1;33m(\u001b[0m\u001b[1;33m*\u001b[0m\u001b[0msorted_training_data\u001b[0m\u001b[1;33m)\u001b[0m\u001b[1;33m\u001b[0m\u001b[1;33m\u001b[0m\u001b[0m\n\u001b[0m\u001b[0;32m      2\u001b[0m \u001b[0mplt\u001b[0m\u001b[1;33m.\u001b[0m\u001b[0mplot\u001b[0m\u001b[1;33m(\u001b[0m\u001b[0mx\u001b[0m\u001b[1;33m,\u001b[0m \u001b[0my\u001b[0m\u001b[1;33m)\u001b[0m\u001b[1;33m\u001b[0m\u001b[1;33m\u001b[0m\u001b[0m\n\u001b[0;32m      3\u001b[0m \u001b[0mplt\u001b[0m\u001b[1;33m.\u001b[0m\u001b[0mshow\u001b[0m\u001b[1;33m(\u001b[0m\u001b[1;33m)\u001b[0m\u001b[1;33m\u001b[0m\u001b[1;33m\u001b[0m\u001b[0m\n\u001b[0;32m      4\u001b[0m \u001b[1;33m\u001b[0m\u001b[0m\n\u001b[0;32m      5\u001b[0m \u001b[0mx\u001b[0m\u001b[1;33m,\u001b[0m \u001b[0my\u001b[0m \u001b[1;33m=\u001b[0m \u001b[0mzip\u001b[0m\u001b[1;33m(\u001b[0m\u001b[1;33m*\u001b[0m\u001b[0msorted_scored_bird_training_data\u001b[0m\u001b[1;33m)\u001b[0m\u001b[1;33m\u001b[0m\u001b[1;33m\u001b[0m\u001b[0m\n",
      "\u001b[1;31mNameError\u001b[0m: name 'sorted_training_data' is not defined"
     ]
    }
   ],
   "source": [
    "x, y = zip(*sorted_training_data) \n",
    "plt.plot(x, y)\n",
    "plt.show()\n",
    "\n",
    "x, y = zip(*sorted_scored_bird_training_data) \n",
    "plt.plot(x, y)\n",
    "plt.show()"
   ]
  },
  {
   "cell_type": "markdown",
   "id": "c9460921",
   "metadata": {},
   "source": [
    "### Generate training data in .pt"
   ]
  },
  {
   "cell_type": "code",
   "execution_count": 14,
   "id": "6b41035d",
   "metadata": {},
   "outputs": [],
   "source": [
    "def get_spectograms(filename):\n",
    "    chunk_duration = 5 #5sec chunk\n",
    "    duration = librosa.get_duration(filename=filename)\n",
    "    num_spectogram = int(duration/chunk_duration)\n",
    "    spectograms = []\n",
    "    for i in range(num_spectogram):\n",
    "        y, sr = librosa.load(filename, offset=i*chunk_duration, duration=chunk_duration)\n",
    "        #display(\"Old Audio\", ipd.Audio(data=y, rate=sr))\n",
    "        nr_y, nr_sr = noise_reduction(y, sr, plot=False, th=0.3)\n",
    "        #display(\"New Audio\", ipd.Audio(data=nr_y, rate=sr))\n",
    "        S = librosa.feature.melspectrogram(y=nr_y, sr=nr_sr)\n",
    "        S_DB = librosa.power_to_db(S, ref=np.max)\n",
    "        spectograms.append(S_DB)\n",
    "    return spectograms"
   ]
  },
  {
   "cell_type": "code",
   "execution_count": null,
   "id": "5ff9c339",
   "metadata": {},
   "outputs": [
    {
     "name": "stderr",
     "output_type": "stream",
     "text": [
      " 11%|█▏        | 1674/14852 [28:06<42:04:30, 11.49s/it]"
     ]
    }
   ],
   "source": [
    "#generate pt files\n",
    "num_audio_files = train_df.shape[0]\n",
    "\n",
    "spectograms_list = []\n",
    "for i in tqdm(range(num_audio_files)):\n",
    "    current_bird = train_df.primary_label.loc[i]\n",
    "    #print('previous_bird',previous_bird)\n",
    "    #print('current_bird',current_bird)\n",
    "    spectograms_list += get_spectograms(train_df['dir'].iloc[i])\n",
    "    if i+1 == num_audio_files:\n",
    "        torch.save(torch.tensor(np.array(spectograms_list)), './train_pt/'+current_bird+'.pt')\n",
    "    else:\n",
    "        next_bird = train_df.primary_label.loc[i+1]\n",
    "        #print('next_bird',next_bird)\n",
    "        if next_bird != current_bird:\n",
    "            torch.save(torch.tensor(np.array(spectograms_list)), './train_pt/'+current_bird+'.pt')\n",
    "            spectograms_list = []\n",
    "    previous_bird = current_bird\n",
    "    #print(spectograms_list[0])"
   ]
  },
  {
   "cell_type": "markdown",
   "id": "913a4ddf",
   "metadata": {},
   "source": [
    "### Get the audio rating for each of the training sample"
   ]
  },
  {
   "cell_type": "code",
   "execution_count": null,
   "id": "00a25d3f",
   "metadata": {},
   "outputs": [],
   "source": [
    "'''\n",
    "num_audio_files = train_df.shape[0]\n",
    "\n",
    "def get_num_spectograms_per_audio(filename):\n",
    "    chunk_duration = 5 #5sec chunk\n",
    "    duration = librosa.get_duration(filename=filename)\n",
    "    num_spectogram = int(duration/chunk_duration)\n",
    "    \n",
    "    return num_spectogram\n",
    "\n",
    "bird_audio_rating_mapping = {}\n",
    "audio_rating_list = []\n",
    "for i in tqdm(range(num_audio_files)):\n",
    "    current_bird = train_df.primary_label.loc[i]\n",
    "    audio_rating = train_df['rating'].iloc[i]\n",
    "    if audio_rating == 0:\n",
    "        audio_rating = 2.5\n",
    "    num_spec = get_num_spectograms_per_audio(train_df['dir'].iloc[i])\n",
    "    audio_rating_list += [audio_rating]*num_spec\n",
    "    if i+1 == num_audio_files:\n",
    "        bird_audio_rating_mapping[current_bird] = audio_rating_list\n",
    "        #torch.save(torch.tensor(np.array(spectograms_list)), './train_pt/'+current_bird+'.pt')\n",
    "    else:\n",
    "        next_bird = train_df.primary_label.loc[i+1]\n",
    "        if next_bird != current_bird:\n",
    "            bird_audio_rating_mapping[current_bird] = audio_rating_list\n",
    "            #torch.save(torch.tensor(np.array(spectograms_list)), './train_pt/'+current_bird+'.pt')\n",
    "            audio_rating_list = []\n",
    "    previous_bird = current_bird\n",
    "\n",
    "#save the mapping into file\n",
    "rating_file = open(\"bird_audio_rating_mapping.pkl\", \"wb\")\n",
    "pickle.dump(bird_audio_rating_mapping, rating_file)\n",
    "rating_file.close()'''"
   ]
  },
  {
   "cell_type": "code",
   "execution_count": null,
   "id": "406a07a3",
   "metadata": {},
   "outputs": [],
   "source": [
    "rating_file = open(Audio_Rating_Dir, \"rb\")\n",
    "bird_audio_rating_mapping = pickle.load(rating_file)\n",
    "#print(bird_audio_rating_mapping)\n",
    "rating_file.close()"
   ]
  },
  {
   "cell_type": "code",
   "execution_count": null,
   "id": "cbfaedf0",
   "metadata": {},
   "outputs": [],
   "source": [
    "print(bird_audio_rating_mapping['blknod'])\n",
    "print(len(bird_audio_rating_mapping['blknod']))\n",
    "print((num_training_data['blknod']))"
   ]
  },
  {
   "cell_type": "markdown",
   "id": "841678bc",
   "metadata": {},
   "source": [
    "### Training"
   ]
  },
  {
   "cell_type": "code",
   "execution_count": null,
   "id": "25ce365a",
   "metadata": {
    "scrolled": true
   },
   "outputs": [],
   "source": [
    "training_seq = [i for i in range(len(all_birds))]\n",
    "random.shuffle(training_seq)\n",
    "print(training_seq)\n",
    "print()\n",
    "training_seq_bird = [idx2bird[i] for i in training_seq]\n",
    "print(training_seq_bird)"
   ]
  },
  {
   "cell_type": "markdown",
   "id": "deded270",
   "metadata": {},
   "source": [
    "### Model"
   ]
  },
  {
   "cell_type": "code",
   "execution_count": null,
   "id": "46592f36",
   "metadata": {},
   "outputs": [],
   "source": [
    "torch.cuda.empty_cache()\n",
    "t = torch.cuda.get_device_properties(0).total_memory\n",
    "r = torch.cuda.memory_reserved(0)\n",
    "a = torch.cuda.memory_allocated(0)\n",
    "f = r-a  # free inside reserved\n",
    "print(t)\n",
    "print(r)\n",
    "print(a)\n",
    "print(f)"
   ]
  },
  {
   "cell_type": "code",
   "execution_count": null,
   "id": "d4edca49",
   "metadata": {},
   "outputs": [],
   "source": [
    "# For upsampling / downsampling / mixup of data\n",
    "TRAINING_THRESHOLD_UPSAMPLING = 512\n",
    "TRAINING_THRESHOLD_DOWNSAMPLING = 512 * 2\n",
    "TRAINING_MIXUP_PERCENTAGE = 0.2 #0.2 means 20% of the training data (after up and down sampling) will be mixup \n",
    "TRAINING_SPECAUGMENT_PERCENTAGE = 0.2 #0.2 means 20% of the training data (after up and down sampling) will be spec-augment \n",
    "TRAINING_VAL_SPLIT = 0.8 #0.8 means 80% of training data will be considered for training, 20% for validation (untouched)\n",
    "\n",
    "def get_more_samples_raw(X_train_bird,y_train_bird,additional_num_samples,rating_weights):\n",
    "    #x train\n",
    "    #e.g. i need 512, but i only have 500\n",
    "    #total_samples = len(y_train_bird)\n",
    "    indices = torch.multinomial(rating_weights,additional_num_samples,replacement=True) #generate the random index, \n",
    "    #e.g. [0,99,54,46,56,35,245,6,8,8,2]\n",
    "    #indices = torch.randint(0,total_samples,(additional_num_samples,))\n",
    "\n",
    "    additional_X_train_bird = X_train_bird[indices]\n",
    "    additional_y_train_bird = y_train_bird[indices]\n",
    "    \n",
    "    return additional_X_train_bird, additional_y_train_bird\n",
    "\n",
    "def get_down_samples(X_train_bird,y_train_bird,num_samples,rating_weights):\n",
    "    #x train\n",
    "    # i got 2000 samples, retrieve only 1024\n",
    "    indices = torch.multinomial(rating_weights,num_samples)\n",
    "\n",
    "    updated_X_train_bird = X_train_bird[indices]\n",
    "    updated_y_train_bird = y_train_bird[indices]\n",
    "    \n",
    "    return updated_X_train_bird, updated_y_train_bird\n",
    "\n",
    "def get_mixup_samples(X_train_bird,y_train_bird,num_mixup_sample,rating_weights,TRAINING_VAL_SPLIT):\n",
    "    \n",
    "    #randomly select indices from bird type 1\n",
    "    source_indices = torch.randint(0,len(y_train_bird),(num_mixup_sample,))\n",
    "    source_X_train = X_train_bird[source_indices]\n",
    "    source_y_train = y_train_bird[source_indices]\n",
    "\n",
    "    #--- TARGET BIRD ---\n",
    "    #randomly select target bird type to mixup\n",
    "    target_bird = torch.randint(0,len(all_birds),(num_mixup_sample,)) #output [10,4,7,64,32]\n",
    "    bird_count = torch.bincount(target_bird) # output from bird1 - 4 times, bird 2 - 20 times \n",
    "    \n",
    "    #initialise empty tensor\n",
    "    target_X_train = torch.empty(0,X_train_bird.shape[1],X_train_bird.shape[2],X_train_bird.shape[3]) # N, C , H, W\n",
    "    target_y_train = torch.empty(0,len(all_birds))\n",
    "    for i in range(len(bird_count)):\n",
    "        if bird_count[i] >0:\n",
    "            add_target_X_train, add_target_y_train = get_n_training_spectograms_from_file(i, bird_count[i],TRAINING_VAL_SPLIT) #touched val_data, to be revised\n",
    "            target_X_train = torch.cat((target_X_train,add_target_X_train),0)\n",
    "            target_y_train = torch.cat((target_y_train,add_target_y_train),0)\n",
    "    \n",
    "    #Perform Mixup for source and target bird entries\n",
    "    mixup_X_train = torch.zeros(num_mixup_sample,X_train_bird.shape[1],X_train_bird.shape[2],X_train_bird.shape[3])\n",
    "    mixup_y_train = torch.zeros_like(target_y_train)\n",
    "    for i in range(len(source_indices)):\n",
    "        lambda_factor = torch.randn(1) \n",
    "        mixup_X_train[i] = source_X_train[i]*lambda_factor + target_X_train[i]*(1-lambda_factor)\n",
    "        mixup_y_train[i] = source_y_train[i]*lambda_factor + target_y_train[i]*(1-lambda_factor)\n",
    "\n",
    "    return mixup_X_train, mixup_y_train\n",
    "\n",
    "def spec_augment(spec, num_mask=1, \n",
    "                 freq_masking_max_percentage=0.1, time_masking_max_percentage=0.1):\n",
    "    \n",
    "    spec = spec.detach().clone()\n",
    "    for i in range(num_mask):\n",
    "        all_frames_num, all_freqs_num = spec.shape\n",
    "        freq_percentage = random.uniform(0.0, freq_masking_max_percentage)\n",
    "        \n",
    "        num_freqs_to_mask = int(freq_percentage * all_freqs_num)\n",
    "        f0 = np.random.uniform(low=0.0, high=all_freqs_num - num_freqs_to_mask)\n",
    "        f0 = int(f0)\n",
    "        spec[:, f0:f0 + num_freqs_to_mask] = 0\n",
    "\n",
    "        time_percentage = random.uniform(0.0, time_masking_max_percentage)\n",
    "        \n",
    "        num_frames_to_mask = int(time_percentage * all_frames_num)\n",
    "        t0 = np.random.uniform(low=0.0, high=all_frames_num - num_frames_to_mask)\n",
    "        t0 = int(t0)\n",
    "        spec[t0:t0 + num_frames_to_mask, :] = 0\n",
    "    \n",
    "    return spec\n",
    "\n",
    "def get_specaugment_samples(X_train_bird,y_train_bird,num_specaugment_sample,rating_weights):\n",
    "    source_indices = torch.randint(0,len(y_train_bird),(num_specaugment_sample,))\n",
    "    specaugment_X_train = X_train_bird[source_indices]\n",
    "    specaugment_y_train = y_train_bird[source_indices]\n",
    "    \n",
    "    for i in range(num_specaugment_sample):\n",
    "        specaugment_X_train[i] = spec_augment(specaugment_X_train[i].squeeze()).view(1,X_train_bird.shape[2],X_train_bird.shape[3])\n",
    "\n",
    "    return specaugment_X_train, specaugment_y_train"
   ]
  },
  {
   "cell_type": "code",
   "execution_count": null,
   "id": "4271d43d",
   "metadata": {},
   "outputs": [],
   "source": [
    "def train_model(model, criterion, optimizer, num_epochs, batch_size, training_seq):\n",
    "    since = time.time()\n",
    "\n",
    "    best_model_wts = copy.deepcopy(model.state_dict())\n",
    "    best_acc = 0.0\n",
    "    \n",
    "    for epoch in (range(num_epochs)):\n",
    "        print(f'Epoch {epoch}/{num_epochs - 1}')\n",
    "        print('-' * 10)\n",
    "        random.shuffle(training_seq)\n",
    "        \n",
    "        for phase in ['train', 'val']:\n",
    "            if phase == 'train':\n",
    "                model.train()  # Set model to training mode\n",
    "            else:\n",
    "                model.eval()   # Set model to evaluate mode\n",
    "            \n",
    "            #print(phase)\n",
    "            \n",
    "            running_loss = 0.0\n",
    "            running_corrects = 0\n",
    "            dataset_size =0\n",
    "        \n",
    "            for bird_idx in tqdm(training_seq):\n",
    "                X_bird, y_bird = get_spectograms_from_file(bird_idx) #get all training data for each bird\n",
    "                #split to train and val set \n",
    "                \n",
    "                train_index = int(TRAINING_VAL_SPLIT*len(y_bird)) #80:20 split for training and validation\n",
    "                if phase == 'train':\n",
    "                    #print('bird', idx2bird[bird_idx])\n",
    "                    #print('shape b4',X_bird.shape)\n",
    "                    X_train_bird = X_bird[0:train_index]\n",
    "                    y_train_bird = y_bird[0:train_index]\n",
    "                    \n",
    "                    bird = idx2bird[bird_idx] #get the rating weights for sampling\n",
    "                    rating_audio = bird_audio_rating_mapping[bird] #higher rating audio will have higher chance of being sampled\n",
    "                    rating_audio_tensor = torch.tensor(np.array(rating_audio))\n",
    "                    rating_weights = rating_audio_tensor[0:train_index]\n",
    "                    #print('shape 1',X_bird.shape)\n",
    "                    #upsampling and downsampling for each bird\n",
    "                    if len(y_train_bird) < TRAINING_THRESHOLD_UPSAMPLING:\n",
    "                        additional_num_samples = TRAINING_THRESHOLD_UPSAMPLING - len(y_train_bird) \n",
    "                        additional_X_train_bird, additional_y_train_bird = get_more_samples_raw(X_train_bird,y_train_bird,additional_num_samples,rating_weights)\n",
    "                        X_train_bird = torch.cat((X_train_bird,additional_X_train_bird),0)\n",
    "                        y_train_bird = torch.cat((y_train_bird,additional_y_train_bird),0)\n",
    "                        #print('upsampling completed for ',idx2bird[bird_idx])\n",
    "                    elif len(y_train_bird) > TRAINING_THRESHOLD_DOWNSAMPLING:\n",
    "                        X_train_bird, y_train_bird = get_down_samples(X_train_bird,y_train_bird,TRAINING_THRESHOLD_DOWNSAMPLING,rating_weights)\n",
    "                        #print('downsampling completed for ',idx2bird[bird_idx])\n",
    "                    \n",
    "                    #print('shape 2',X_bird.shape)\n",
    "                    #perform mixup for each bird\n",
    "                    if TRAINING_MIXUP_PERCENTAGE > 0:\n",
    "                        #generate additional sample\n",
    "                        num_mixup_sample = int(len(y_train_bird) * TRAINING_MIXUP_PERCENTAGE)\n",
    "                        mixup_X_train_bird, mixup_y_train_bird = get_mixup_samples(X_train_bird,y_train_bird,num_mixup_sample,rating_weights,TRAINING_VAL_SPLIT)\n",
    "                        #print('mixup completed for ',idx2bird[bird_idx])\n",
    "                    \n",
    "                    if TRAINING_SPECAUGMENT_PERCENTAGE >0:\n",
    "                        num_specaugment_sample = int(len(y_train_bird) * TRAINING_SPECAUGMENT_PERCENTAGE)\n",
    "                        specaugment_X_train_bird, specaugment_y_train_bird = get_specaugment_samples(X_train_bird,y_train_bird,num_specaugment_sample,rating_weights)\n",
    "                        #print('specaugment_X_train_bird.shape',specaugment_X_train_bird.shape)\n",
    "                        \n",
    "                    if TRAINING_MIXUP_PERCENTAGE > 0:\n",
    "                        #add the generated samples\n",
    "                        X_train_bird = torch.cat((X_train_bird,mixup_X_train_bird),0)\n",
    "                        y_train_bird = torch.cat((y_train_bird,mixup_y_train_bird),0)\n",
    "                    \n",
    "                    if TRAINING_SPECAUGMENT_PERCENTAGE > 0:\n",
    "                        #add the generated samples\n",
    "                        X_train_bird = torch.cat((X_train_bird,specaugment_X_train_bird),0)\n",
    "                        y_train_bird = torch.cat((y_train_bird,specaugment_y_train_bird),0)\n",
    "                        \n",
    "                    #e.g.     X_train_bird.shape = (640,1,128,216)\n",
    "                    dataset_size += len(y_train_bird)\n",
    "                else:\n",
    "                    X_train_bird = X_bird[train_index:]\n",
    "                    y_train_bird = y_bird[train_index:]\n",
    "                    dataset_size += (len(y_bird)-train_index-1)\n",
    "                \n",
    "                num_batch = -(-len(y_train_bird)//batch_size) #e.g.10\n",
    "                for batch in (range(num_batch)):\n",
    "                    X_train = X_train_bird[batch*batch_size : (batch+1)*batch_size]\n",
    "                    y_train = y_train_bird[batch*batch_size : (batch+1)*batch_size]\n",
    "                    X_train = X_train.to(device)\n",
    "                    y_train = y_train.to(device)\n",
    "                    optimizer.zero_grad()\n",
    "                    \n",
    "                    with torch.set_grad_enabled(phase == 'train'):\n",
    "                        outputs = model(X_train)\n",
    "                        _, preds = torch.max(outputs, 1)\n",
    "                        loss = criterion(outputs, y_train.type(torch.float))\n",
    "                    \n",
    "                        if phase == 'train':\n",
    "                            loss.backward()\n",
    "                            optimizer.step()\n",
    "                    \n",
    "                    # statistics\n",
    "                    running_loss += loss.item() * X_train.size(0)\n",
    "                    _,ground_truth = torch.max(y_train, 1)\n",
    "                    running_corrects += torch.sum(preds == ground_truth)\n",
    "                    \n",
    "                    #clear memory\n",
    "                    del X_train\n",
    "                    del y_train\n",
    "                    gc.collect()\n",
    "                    torch.cuda.empty_cache()\n",
    "\n",
    "                    \n",
    "            #statistics\n",
    "            epoch_loss = running_loss / dataset_size\n",
    "            epoch_acc = running_corrects.double() / dataset_size\n",
    "            \n",
    "\n",
    "            print(f'{phase} Loss: {epoch_loss:.4f} Acc: {epoch_acc:.4f}')\n",
    "            time_elapsed = time.time() - since\n",
    "            print(f'Time_elapsed {time_elapsed // 60:.0f}m {time_elapsed % 60:.0f}s')\n",
    "            \n",
    "             # deep copy the model\n",
    "            if phase == 'val' and epoch_acc > best_acc:\n",
    "                best_acc = epoch_acc\n",
    "                best_model_wts = copy.deepcopy(model.state_dict())\n",
    "            \n",
    "            torch.save(model.state_dict(), './last_model_parameters.pt')\n",
    "        print()\n",
    "        \n",
    "    time_elapsed = time.time() - since\n",
    "    print(f'Training complete in {time_elapsed // 60:.0f}m {time_elapsed % 60:.0f}s')\n",
    "    print(f'Best val Acc: {best_acc:4f}')\n",
    "\n",
    "    # load best model weights\n",
    "    model.load_state_dict(best_model_wts)\n",
    "    return model"
   ]
  },
  {
   "cell_type": "code",
   "execution_count": null,
   "id": "7495f4d8",
   "metadata": {},
   "outputs": [],
   "source": [
    "# MODEL = 'resnet'\n",
    "MODEL = 'vit'\n",
    "\n",
    "device = torch.device('cuda:0' if torch.cuda.is_available() else 'cpu')\n",
    "print(device)\n",
    "\n",
    "if MODEL == 'resnet':\n",
    "    model = models.resnet50(pretrained=True)\n",
    "    num_features = model.fc.in_features\n",
    "    model.fc = nn.Linear(num_features, len(all_birds))\n",
    "    model.conv1 = nn.Conv2d(1, 64, kernel_size=7, stride=2, padding=3, bias=False)\n",
    "    model = model.to(device)\n",
    "    \n",
    "    batch_size = 64\n",
    "    \n",
    "\n",
    "if MODEL == 'vit':\n",
    "    \n",
    "    efficient_transformer = Linformer(\n",
    "        dim=216,\n",
    "        seq_len=27649, # 128 * 216 + 1 cls token\n",
    "        depth=12,\n",
    "        heads=8,\n",
    "        k=64\n",
    "        )\n",
    "    \n",
    "    vit_model = ViT(\n",
    "        image_size=216,\n",
    "        patch_size=1,\n",
    "        num_classes=len(training_seq),\n",
    "        dim=216,\n",
    "        transformer=efficient_transformer,\n",
    "        channels=1\n",
    "        ).to(device)\n",
    "    \n",
    "    model = vit_model    \n",
    "    batch_size = 192    \n",
    "    \n",
    "#     LR = 0.001\n",
    "#     GAMMA = 0.7 #for learning rate scheduler \n",
    "#     scheduler = StepLR(optimizer, step_size=1, gamma=GAMMA)\n",
    "\n",
    "num_epochs = 50\n",
    "criterion = nn.CrossEntropyLoss()\n",
    "optimizer = optim.Adam(model.parameters(), lr=0.001)\n",
    "#exp_lr_scheduler = lr_scheduler.StepLR(optimizer, step_size=7, gamma=1)\n",
    "\n",
    "#model.load_state_dict(torch.load('./last_model_parameters.pt'))\n",
    "best_model = train_model(model, criterion, optimizer, num_epochs, batch_size, training_seq)"
   ]
  },
  {
   "cell_type": "code",
   "execution_count": null,
   "id": "d9bd342c",
   "metadata": {},
   "outputs": [],
   "source": [
    "torch.save(model.state_dict(), './best_model_parameters.pt')\n",
    "\n",
    "#model.load_state_dict(torch.load('./best_model_parameters.pt'))\n",
    "model.load_state_dict(torch.load('./last_model_parameters.pt'))"
   ]
  },
  {
   "cell_type": "code",
   "execution_count": null,
   "id": "c499af63",
   "metadata": {},
   "outputs": [],
   "source": [
    "Test_Audio_DIR = './test_soundscapes/'\n",
    "file_list = [f.split('.')[0] for f in sorted(os.listdir(Test_Audio_DIR))]\n",
    "\n",
    "print('Number of test soundscapes', len(file_list))"
   ]
  },
  {
   "cell_type": "code",
   "execution_count": null,
   "id": "8a686919",
   "metadata": {},
   "outputs": [],
   "source": [
    "pred = {'row_id': [], 'target': []}\n",
    "threshold = 0.3\n",
    "model.eval() \n",
    "\n",
    "for file in file_list:\n",
    "    test_audio_file_path = test_audio_dir + file + '.ogg'\n",
    "    \n",
    "    chunk_duration = 5 #5sec chunk\n",
    "    duration = librosa.get_duration(filename=test_audio_file_path)\n",
    "    num_spectogram = int(duration/chunk_duration)\n",
    "    \n",
    "    chunks = [[] for i in range(num_spectogram)]\n",
    "\n",
    "    melspec_test = torch.tensor(get_spectograms(test_audio_file_path)).view(-1,1,128,216)\n",
    "    #X_test = torch.stack(melspec_test).to(device)\n",
    "    X_test = (melspec_test).to(device)\n",
    "    #print(X_test.shape)\n",
    "\n",
    "    outputs = model(X_test)\n",
    "    #print(outputs.shape)\n",
    "    outputs_test = torch.sigmoid(outputs)\n",
    "    #print(outputs_test.shape)\n",
    "    #print(scored_birds)\n",
    "\n",
    "    for idx, i in enumerate(range(len(chunks))):\n",
    "        chunk_end_time = (i + 1) * 5\n",
    "        for bird in scored_birds:\n",
    "            try:\n",
    "                score = outputs_test[idx][bird2idx[bird]]\n",
    "            except IndexError:\n",
    "                score = 0\n",
    "            \n",
    "            row_id = file + '_' + bird + '_' + str(chunk_end_time)\n",
    "            #print('score is ', score)\n",
    "            pred['row_id'].append(row_id)\n",
    "            pred['target'].append(True if score > threshold else False)"
   ]
  },
  {
   "cell_type": "code",
   "execution_count": null,
   "id": "15ac417d",
   "metadata": {},
   "outputs": [],
   "source": [
    "results = pd.DataFrame(pred, columns = ['row_id', 'target'])\n",
    "print(results)\n",
    "\n",
    "results.to_csv(\"submission.csv\", index=False)"
   ]
  },
  {
   "cell_type": "code",
   "execution_count": null,
   "id": "59e290e4",
   "metadata": {},
   "outputs": [],
   "source": []
  }
 ],
 "metadata": {
  "kernelspec": {
   "display_name": "Python 3",
   "language": "python",
   "name": "python3"
  },
  "language_info": {
   "codemirror_mode": {
    "name": "ipython",
    "version": 3
   },
   "file_extension": ".py",
   "mimetype": "text/x-python",
   "name": "python",
   "nbconvert_exporter": "python",
   "pygments_lexer": "ipython3",
   "version": "3.6.8"
  }
 },
 "nbformat": 4,
 "nbformat_minor": 5
}
